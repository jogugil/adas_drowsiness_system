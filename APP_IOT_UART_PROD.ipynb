{
 "cells": [
  {
   "cell_type": "code",
   "execution_count": 7,
   "id": "228a21cc",
   "metadata": {},
   "outputs": [],
   "source": [
    "%matplotlib inline \n",
    "from matplotlib import pyplot as plt\n",
    "\n",
    "import json\n",
    "import time\n",
    "import random\n",
    "import logging\n",
    "import datetime\n",
    "import threading\n",
    "from paho import mqtt\n",
    "from time import sleep\n",
    "import multiprocessing\n",
    "from threading import Thread\n",
    "from time import perf_counter\n",
    "import paho.mqtt.client as paho\n",
    "from IPython.display import clear_output\n",
    "from scipy.spatial import distance as dist\n",
    "from imutils.video import FileVideoStream\n",
    "from imutils.video import VideoStream\n",
    "from pynq.lib.video import *\n",
    "from imutils import face_utils\n",
    "import multiprocessing\n",
    "import numpy as np  \n",
    "import argparse\n",
    "import platform\n",
    "import imutils\n",
    "import dlib\n",
    "import cv2\n",
    "import os"
   ]
  },
  {
   "cell_type": "markdown",
   "id": "5772fee0",
   "metadata": {},
   "source": [
    "# 1. Creacion Ficheros de Log"
   ]
  },
  {
   "cell_type": "code",
   "execution_count": 8,
   "id": "3945ac8f",
   "metadata": {},
   "outputs": [],
   "source": [
    "# Definición del logger root\n",
    "# -----------------------------------------------------------------------------\n",
    "logging.basicConfig(\n",
    "    format = '%(asctime)-5s %(name)-15s %(levelname)-8s %(message)s',\n",
    "    level  = logging.INFO,\n",
    "    filemode = \"a\"\n",
    "    )\n",
    "# Nuevos handlers\n",
    "# -----------------------------------------------------------------------------\n",
    "# Si el root logger ya tiene handlers, se eliminan antes de añadir los nuevos.\n",
    "# Esto es importante para que los logs no empiezen a duplicarse.\n",
    "if logging.getLogger('').hasHandlers():\n",
    "    logging.getLogger('').handlers.clear()\n",
    "    \n",
    "# Se añaden tres nuevos handlers al root logger, uno para los niveles de debug o\n",
    "# superiores, otro recogida de datos y otro para que se muestre por pantalla los niveles de info o\n",
    "# superiores.\n",
    "#---------------Recogida de datos de eventos---------------------\n",
    "\n",
    "log_data= f\"logs_data_pynq_{datetime.datetime.now().strftime('%Y%m%d.log')}\"\n",
    "file_data_handler = logging.FileHandler(log_data)\n",
    " \n",
    "file_data_handler.setLevel(logging.CRITICAL)\n",
    "file_data_format = logging.Formatter('%(asctime)-5s %(name)-15s %(levelname)-8s %(message)s')\n",
    "file_data_handler.setFormatter(file_data_format)\n",
    "logging.getLogger('').addHandler(file_data_handler)\n",
    "\n",
    "#-------------------Trazas de Debug del prototipo -----------------\n",
    "\n",
    "log_debg = f\"logs_debug_{datetime.datetime.now().strftime('%Y%m%d_test.log')}\"\n",
    "file_debug_handler = logging.FileHandler(log_debg)\n",
    "#file_debug_handler .TimedRotatingFileHandler(filename = log_debg,  when='s', interval=1, backupCount=5)\n",
    " \n",
    "file_debug_handler.setLevel(logging.DEBUG)\n",
    "file_debug_format = logging.Formatter('%(asctime)-5s %(name)-15s %(levelname)-8s %(message)s')\n",
    "file_debug_handler.setFormatter(file_debug_format)\n",
    "logging.getLogger('').addHandler(file_debug_handler)\n",
    "\n",
    "#----------------Trazas de infor para desarrollo---------------------\n",
    "\n",
    "consola_handler = logging.StreamHandler()\n",
    "consola_handler.setLevel(logging.INFO)\n",
    "consola_handler_format = logging.Formatter('%(asctime)-5s %(name)-15s %(levelname)-8s %(message)s')\n",
    "consola_handler.setFormatter(consola_handler_format)\n",
    "logging.getLogger('').addHandler(consola_handler) "
   ]
  },
  {
   "cell_type": "markdown",
   "id": "de0915f0",
   "metadata": {},
   "source": [
    "# 2. Comunicación MQTT"
   ]
  },
  {
   "cell_type": "markdown",
   "id": "c8ea9f40",
   "metadata": {},
   "source": [
    "## 2.1 constantes"
   ]
  },
  {
   "cell_type": "code",
   "execution_count": 9,
   "id": "8c156436",
   "metadata": {},
   "outputs": [],
   "source": [
    "#--------------------------------------------------------------\n",
    "# Definición Constantes y Mensajes Intercambio HiveMQtt e UART/Bluetooth\n",
    "#----------------------------------------------------------------\n",
    "HOST_HIVEMQ   = \"dbd25372b1b647e895c3f4adb0260f4e.s2.eu.hivemq.cloud\" \n",
    "PORT_HIVEMQ   = 8883\n",
    "clean_session = True\n",
    "\n",
    "client_id     = \"Client_00\"\n",
    "server_id     = \"Client_01\"\n",
    "client_cam_id = \"Client_03\"\n",
    "\n",
    "user_name     = \"adasjg01\"\n",
    "password      = \"adas2022_01\"\n",
    "\n",
    "user_name2     = \"adasjg01\"\n",
    "password2      = \"adasjg02_iot02\"\n",
    "\n",
    "user_name_cam     = \"adasjg_cam\"\n",
    "password_cam      = \"adas2022_cam\"\n",
    "\n",
    "topic_sub_pynq       = \"ADASJG01/Pynq/#\" # De esta forma leo los mensajes de intercambio y los eento de la cam\n",
    "topic_pub_pynq       = \"ADASJG01/Server/\"\n",
    "topic_pub_client_cam = \"ADASJG01/Server/cam/\""
   ]
  },
  {
   "cell_type": "markdown",
   "id": "8400dc32",
   "metadata": {},
   "source": [
    "## 2.2 Publicador eventos de somnolencia"
   ]
  },
  {
   "cell_type": "code",
   "execution_count": 10,
   "id": "1d2b6941",
   "metadata": {},
   "outputs": [],
   "source": [
    "# MQTT: client_cam\n",
    "client_cam = None\n",
    "send_cam_scr = threading.Semaphore()  # Para publicar mesajes mediante diferentes hilos en exclusión y con sección critica (la publicación)\n",
    "\n",
    "#--------------------------------------------------------\n",
    "# Publicador eventos CAM\n",
    "#------------------------------------------------------------\n",
    "# Desarrollo multithreading, aparecen secciones criticas en los \n",
    "# adaptadores, publicadores y zonas compartidas. Mejora la respuesta \n",
    "# con el proceso y análisis de vídeo. Permite tener hilos dedicados \n",
    "# a cada tipo de comunicación (mqtt,uart, etc...)\n",
    "def on_connect_client_cam (client, userdata, flags, rc, properties=None):\n",
    "    if rc == 0:\n",
    "        #logging.debug (\"CLient_Cam::>>> OK connect\")\n",
    "        client.connected_flag = True\n",
    "        return\n",
    "    logging.debug (\"CLient_Cam::>>> Failed to connect\")\n",
    "\n",
    "    # with this callback you can see if your publish was successful\n",
    "def on_publish_client_cam (client, userdata, mid, properties=None):\n",
    "    print(\"CLient_Cam ::>>> mid: \" + str(mid))\n",
    "\n",
    "def connect_client_cam ():\n",
    "\n",
    "    \"\"\"\n",
    "    Conecta topic 'ADASJG01/Pynq/cam'\n",
    "    aunque con implementar una función de conexión sobraría (pasando como parametro el client_id)\n",
    "    vamos a implementar dos funciones por separado para identificar claramente los dos clientes \n",
    "    que se tienen sobre el mismo broker mqtt\n",
    "    \"\"\"\n",
    "    logging.info(\"connect_client_cam\")\n",
    "    # using MQTT version 5 here, for 3.1.1: MQTTv311, 3.1: MQTTv31\n",
    "    # userdata is user defined data of any type, updated by user_data_set()\n",
    "    # client_id is the given name of the client\n",
    "    client = paho.Client (client_id=client_cam_id, userdata=None, protocol=paho.MQTTv5)\n",
    "    client.on_connect = on_connect_client_cam\n",
    "    # enable TLS for secure connection\n",
    "    client.tls_set (tls_version=mqtt.client.ssl.PROTOCOL_TLS)\n",
    "    # set username and password\n",
    "    client.username_pw_set (user_name_cam, password_cam)\n",
    "    # connect to HiveMQ Cloud on port 8883 (default for MQTT)\n",
    "    client.connect (HOST_HIVEMQ, PORT_HIVEMQ, keepalive = 60)\n",
    "    client.connected_flag = False\n",
    "    \n",
    "    while not client.connected_flag: #wait in loop\n",
    "        client.loop()#client_cam.loop_start()\n",
    "        sleep (1)\n",
    "        logging.info (\"NO CONECTA\")\n",
    "    logging.info (\"OK CONECT\")\n",
    "    \n",
    "    return client\n",
    "def disconnect_client_cam (client):\n",
    "    logging.info(\"disconnect_client_cam\")\n",
    "    send_cam_scr.acquire()\n",
    "    if 'client_cam' in globals():\n",
    "        client.connected_flag = False\n",
    "        client.disconnect  ()\n",
    "        client.unsubscribe(topic_pub_client_cam)\n",
    "        client.loop_stop ()\n",
    "    send_cam_scr.release()\n",
    "#------------\n",
    "# send_cloud_cam_mseg (topic,msg_out): Envia los eventos de parpadeo/bostezo/Somnolencia a la pynq\n",
    "# Realement eenvia las accciones que debe realiar ante dichas situaciones.\n",
    "# Al igual que con la función de conexión. Vamos a crear dos funciones de publicación por cliente (hilo)\n",
    "# realmente con una sóla implementación sobraría (pasas como parametro la instancia de tu cliente)\n",
    "# ----------------------------------------------------------------------------------------------------------------\n",
    "# Nota: Aunque en la implementación sele pasa como aributo 'client', Debemos tomar esta función y \n",
    "# por tanto el objeto 'client_cam' como sección crítica. Ya que se lanan varios hilos y'client_cam' es global\n",
    "# a la hora de compartir dicho objeto, puedo producirse un error de carrera si varios hilos modifican y usan a la vez\n",
    "# client_cam para publicar. Ya se ha testeado que se roduce un error si no se sincroniza en exclusión mutua dicha función\n",
    "# por ello, añadimos el objeto 'client_cam' dentro de la función y así reducimos la sección crñitica en exclusión mútua.\n",
    "#---------------\n",
    "def send_cloud_cam_mseg (client,msg_out):\n",
    "    #Sección crítica, par aevitar problemas de multithreding a la hora de enviar notficaciones\n",
    "    #por eventos de somnolencia\n",
    "    \n",
    "    logging.debug(\"send_cloud_cam_mseg\")\n",
    "    send_cam_scr.acquire()\n",
    "    if 'client_cam' in globals():\n",
    "        logging.debug(msg_out)\n",
    "        print(\"send_cloud_cam_mseg\")\n",
    "        if msg_out is not None and len (msg_out) > 0:\n",
    "            for i in range(0,len(msg_out)):\n",
    "                msg = msg_out [i]\n",
    "                client_cam.publish (topic_pub_client_cam, payload = msg, qos=0)\n",
    "    send_cam_scr.release()    "
   ]
  },
  {
   "cell_type": "code",
   "execution_count": 11,
   "id": "076cfbd2",
   "metadata": {},
   "outputs": [
    {
     "name": "stderr",
     "output_type": "stream",
     "text": [
      "2023-01-05 09:02:20,297 root            INFO     connect_client_cam\n",
      "2023-01-05 09:02:21,798 root            INFO     NO CONECTA\n",
      "2023-01-05 09:02:21,804 root            INFO     OK CONECT\n"
     ]
    }
   ],
   "source": [
    "client_cam = connect_client_cam ()"
   ]
  },
  {
   "cell_type": "markdown",
   "id": "46fb7cb9",
   "metadata": {},
   "source": [
    "## 2.3 subscritor de la APP para la PYNQ. Publicadr Eventos de distracción"
   ]
  },
  {
   "cell_type": "code",
   "execution_count": 12,
   "id": "35ffc989",
   "metadata": {},
   "outputs": [],
   "source": [
    "client_hivemqtt = None\n",
    "send_src     = threading.Semaphore()  # Para compartir publicador con los hilos que publican cada evento\n",
    "#####################\n",
    "# Cliente recive eventos placa Pynq y envia a servidor cada evento detectado por lso sensores\n",
    "# Recive al acción a realizar del servidor y efectua la acción con los actuadores necesarios a dicha acción\n",
    "#####################\n",
    "\n",
    "# setting callbacks for different events to see if it works, print the message etc.\n",
    "def on_connect_pynq (client, userdata, flags, rc, properties=None):\n",
    "    if rc == 0:\n",
    "        #logging.info (\" Client ::> Ok Connect\")\n",
    "        client.connected_flag = True\n",
    "        return\n",
    "       \n",
    "    logging.info (\" Client ::> Failed Connect\")\n",
    "    \n",
    "# with this callback you can see if your publish was successful\n",
    "#def on_publish_pynq (client, userdata, mid, properties=None):\n",
    "   # print(\" Cliente PYNQ:::>>> mid: \" + str(mid))\n",
    "\n",
    "# print which topic was subscribed to\n",
    "def on_subscribe_pynq  (client, userdata, mid, granted_qos, properties=None):\n",
    "    print(\" Cliente PYNQ:::>>> Subscribed: \" + str(mid) + \" \" + str(granted_qos))\n",
    " \n",
    "# print message, useful cfor checking if it was successful\n",
    "def on_message_pynq (client, userdata, msg):\n",
    "    \n",
    "    print(f' Cliente PYNQ:::>>> Thread {threading.get_ident()} - Processing on_message')\n",
    "     \n",
    "  \n",
    "    str_msg = str(msg.payload.decode(\"utf-8\"))\n",
    " \n",
    "    if str_msg is not None:\n",
    "        print(\"Cliente PYNQ:::>>> str_msg\")\n",
    "        event = recv_evet_msg_json (str_msg)\n",
    "        print(\"event:\",event)\n",
    "        if event  == EVENT_LOGIN:\n",
    "            logging.info ('EVENT_LOGIN')\n",
    "            status    = recv_login_msg_json (str_msg)\n",
    "            logging.info (status)\n",
    "            if status == \"OK\":\n",
    "                led_rgb (4,2)\n",
    "            else:\n",
    "                led_rgb (4,4)\n",
    "        elif (get_color_led_rgb (4) ==  2 ) and event  == EVENT_LED_STICK:\n",
    "            logging.info ('EVENT_LED_STICK')\n",
    "            \n",
    "            color = recv_params_msg_json (str_msg)\n",
    "            \n",
    "            print (' >>>>>>>>>>>>> color:',int(color[0]))\n",
    "            led_stick (int(color[0]))\n",
    "            \n",
    "        elif (get_color_led_rgb (4) ==  2 ) and event  == EVENT_BUZZER:\n",
    "            logging.info ('EVENT_BUZZER')\n",
    "            paramms = recv_params_msg_json (str_msg)\n",
    "            \n",
    "            note    = paramms [0]\n",
    "            beats   = [int(x) for x in paramms [1].split(sep=',')] #paramms [1]\n",
    "            tempo   = int (paramms [2])\n",
    "            count   = int (paramms [3])\n",
    "            \n",
    "            print (' >>>>>>>>>>>>> note:',note)\n",
    "            print (' >>>>>>>>>>>>> beats:',beats)\n",
    "            print (' >>>>>>>>>>>>> tempo:',tempo)\n",
    "            print (' >>>>>>>>>>>>> count:',count)\n",
    "            \n",
    "            n = count\n",
    "            \n",
    "            for i in range(0,n):\n",
    "                buzzer (note,beats,tempo)\n",
    "  \n",
    "        elif (get_color_led_rgb (4) ==  2 ) and event  == EVENT_SERVO:\n",
    "            logging.info ('EVENT_SERVO')\n",
    "            \n",
    "            angle = recv_params_msg_json (str_msg)\n",
    "            print (' >>>>>>>>>>>>> angle:',float(angle[0]))\n",
    "            \n",
    "            servo (int(angle[0]))\n",
    "            \n",
    "        elif (get_color_led_rgb (4) ==  2 ) and event  == EVENT_DTLIGTH:\n",
    "            logging.info ('EVENT_DTLIGTH') \n",
    "            inten = recv_intensity_msg_json (str_msg)\n",
    "            logging.info (f'Se ha detectado un aluz interna con una intensidad de {inten}') \n",
    "            logging.info (f'Recuerde que por llevar luces internas encendidas le pueden multar con 200 euros.') \n",
    "        elif (get_color_led_rgb (4) ==  2 ) and event  == EVENT_DTTEMP:\n",
    "            logging.info ('EVENT_DTTEMP')\n",
    "            temp = recv_temp_msg_json (str_msg)\n",
    "            logging.info (f'Se ha detectado una temperatura de {temp}ºC')   \n",
    "        else:\n",
    "            logging.info('error')\n",
    "    else:\n",
    "        print(\"Cliente PYNQ:::>>> NOT str_msg\")\n",
    " \n",
    "def subscribing_pynq    (client,topic):\n",
    "    client.on_message   = on_message_pynq\n",
    "    client.on_subscribe = on_subscribe_pynq  \n",
    "    client.subscribe (topic, qos=0)\n",
    "    client.loop_forever()\n",
    "        \n",
    "def main_pynq (client,topic,msg):\n",
    "    send_src.acquire()\n",
    "     # a single publish, this can also be done in loops, etc.\n",
    "    client.publish (topic, payload = msg, qos=0)\n",
    "    send_src.release()\n",
    "        \n",
    "#----------------------------\n",
    "def disconnect_hivemqtt(client):\n",
    "    logging.info (\"disconnect_hivemqtt ()\")\n",
    "    \n",
    "    if 'client_hivemqtt' in globals() or 'client_hivemqtt' in locals():\n",
    "        client.disconnect ()\n",
    "        client.unsubscribe (topic_sub_pynq)\n",
    "        client.connected_flag = False\n",
    "        client.loop_stop ()\n",
    "        \n",
    "\n",
    "def isConnect_hivemqtt  (client):\n",
    "    logging.info(\"isConnect_hivemqtt ()\")\n",
    "  \n",
    "    if 'client_hivemqtt' in globals() or 'client_hivemqtt' in locals():\n",
    "        return client.connected_flag \n",
    "    else:\n",
    "        return False\n",
    "\n",
    "def app_connect_hivemqtt_run ():\n",
    "    logging.info (\"def app_connect_hivemqtt_run ():\")\n",
    "    #disconnect_hivemqtt()\n",
    "    \n",
    "    # using MQTT version 5 here, for 3.1.1: MQTTv311, 3.1: MQTTv31\n",
    "    # userdata is user defined data of any type, updated by user_data_set()\n",
    "    # client_id is the given name of the client\n",
    "    client = paho.Client(client_id=client_id, userdata=None, protocol=paho.MQTTv5)\n",
    "    client.on_connect = on_connect_pynq \n",
    "    # enable TLS for secure connection\n",
    "    client.tls_set(tls_version=mqtt.client.ssl.PROTOCOL_TLS)\n",
    "    # set username and password\n",
    "    client.username_pw_set(user_name, password)\n",
    "    # connect to HiveMQ Cloud on port 8883 (default for MQTT)\n",
    "    client.connect (HOST_HIVEMQ, PORT_HIVEMQ, keepalive = 60)\n",
    "    client.connected_flag = False\n",
    "    while not client.connected_flag: #wait in loop\n",
    "        client.loop  ()\n",
    "        sleep (1)\n",
    "        \n",
    "    return client"
   ]
  },
  {
   "cell_type": "code",
   "execution_count": 13,
   "id": "4a138faa",
   "metadata": {},
   "outputs": [
    {
     "name": "stderr",
     "output_type": "stream",
     "text": [
      "2023-01-05 09:02:25,243 root            INFO     def app_connect_hivemqtt_run ():\n"
     ]
    }
   ],
   "source": [
    "client_hivemqtt = app_connect_hivemqtt_run ()"
   ]
  },
  {
   "cell_type": "code",
   "execution_count": 14,
   "id": "bdba9c86",
   "metadata": {},
   "outputs": [],
   "source": [
    "#led_rgb (4,2)\n",
    "#app_connect_hivemqtt_run ()\n",
    "#sub_pynq = threading.Thread(target = subscribing_pynq,args=(client,topic_sub_pynq))\n",
    "#sub_pynq.start ()"
   ]
  },
  {
   "cell_type": "code",
   "execution_count": 15,
   "id": "d858a0cb",
   "metadata": {},
   "outputs": [],
   "source": [
    "#disconnect_hivemqtt()"
   ]
  },
  {
   "cell_type": "markdown",
   "id": "a8eaa32c",
   "metadata": {},
   "source": [
    "## 2.3 Mensajes y eventos de intercambio"
   ]
  },
  {
   "cell_type": "code",
   "execution_count": 16,
   "id": "fd895c95",
   "metadata": {},
   "outputs": [],
   "source": [
    "MSG_DTC_JSON           = '{\"clientid\":\"AGASDJG01\",\"action\":\"DTC\",\"event\":\"None\"}'\n",
    "\n",
    "MSG_LOGIN              = '{\"clientid\":\"AGASDJG01\",\"action\":\"DTC\",\"event\":\"LOGIN\",\"status\":\"OK\"}'\n",
    "\n",
    "MDG_RTC_JSON_BUZZER    =  '{\"clientid\":\"AGASDJG01\",\"action\":\"RTC\", \\\n",
    "                             \"event\":\"BUZZER\",\"paramms\":[\"a,b,c,d,e,f,g,A\",\\\n",
    "                                                         \"1, 1, 1, 1, 1, 1, 2, 1\",\\\n",
    "                                                          \"10\",\"3\"]}'\n",
    "MDG_RTC_JSON_SERVO     =  '{\"clientid\":\"AGASDJG01\",\"action\":\"RTC\", \\\n",
    "                             \"event\":\"SERVO\",\"paramms\":[\"180\"]}'\n",
    "\n",
    "MDG_RTC_JSON_LED_STICK =  '{\"clientid\":\"AGASDJG01\",\"action\":\"RTC\", \\\n",
    "                             \"event\":\"LED_STICK\",\"paramms\":[\"0xFF00FF\"]}' \n",
    "\n",
    "MSG_DTC_TEMP = '{\"clientid\":\"AGASDJG01\",\"action\":\"DTC\",\"event\":\"DTTEMP\",\"Temp\":\"23\"}'\n",
    "MSG_RTC_TEMP = '{\"clientid\":\"AGASDJG01\",\"action\":\"RTC\",\"event\":\"DTTEMP\",\"Temp\":\"23\"}'\n",
    "\n",
    "MSG_DTC_LIGHT_INT = '{\"clientid\":\"AGASDJG01\",\"action\":\"DTC\",\"event\":\"DTLIGTH\",\"ILight\":\"23.2\"}'\n",
    "MSG_RTC_LIGHT_INT = '{\"clientid\":\"AGASDJG01\",\"action\":\"RTC\",\"event\":\"DTLIGTH\",\"ILight\":\"23.2\"}'\n",
    "\n",
    "\"\"\"\n",
    "'DROWSINESS'  - detección de somnolencia (cam)\n",
    "'DTBLINK'     - detección parpadeo (cam)\n",
    "'DTYAWN'      - detección bostezo  (cam)\n",
    "'DTSMOKING'   - detección fumando  (cam)\n",
    "'DTDRINK'     - detección bebiendo (cam)\n",
    "'DTEATING'    - detección comiendo (cam)\n",
    "'DTMOBL'      - detección movil    (cam)\n",
    "'DTLIGTH'     - detección de luz interna  (sensor intensidad de luz)\n",
    "'DTTEMP'      - detección temperatura     (sensor temperatura interna)\n",
    "'DANGPOS'     - no se detecta a cara del conductor, bien por taparse o posición inadecuada\n",
    "--------\n",
    "'BUZZER'    - Creación sonido alarma\n",
    "'LED_STICK' - Señalizacion mediante testigos de luz\n",
    "'SERVO'     - Movimiento SERVO, simulando conducción autónoma\n",
    "\"\"\"\n",
    "\n",
    "EVENT_NFTR      = \"NFTR\"    # Sin implementar\n",
    "EVENT_DANGPOS   = \"DANGPOS\"   \n",
    "\n",
    "EVENT_LOGIN     = \"LOGIN\"\n",
    "#-- sensor Cam\n",
    "EVENT_DANGPOS    = \"DANGPOS\" \n",
    "EVENT_DROWSINESS = 'DROWSINESS'\n",
    "EVENT_DTBLINK    = \"DTBLINK\"\n",
    "EVENT_DTYAWN     = \"DTYAWN\"\n",
    "EVENT_DTSMOKING  = \"DTSMOKING\"\n",
    "EVENT_DTDRINK    = \"DTDRINK\"\n",
    "EVENT_DTEATING   = \"DTEATING\"\n",
    "EVENT_DTMOBIL    = 'DTMOBIL'\n",
    "#-- Sensor Temp\n",
    "EVENT_DTTEMP     = \"DTTEMP\"\n",
    "#-- Sensor Intensidad de Luz\n",
    "EVENT_DTLIGTH    = \"DTLIGTH\"\n",
    "\n",
    "#--- Actuadores\n",
    "\n",
    "EVENT_BUZZER    = \"BUZZER\"\n",
    "EVENT_LED_STICK = \"LED_STICK\"\n",
    "EVENT_SERVO     = \"SERVO\" "
   ]
  },
  {
   "cell_type": "code",
   "execution_count": 17,
   "id": "b8cd19cf",
   "metadata": {},
   "outputs": [],
   "source": [
    "import json\n",
    "\n",
    "def msg_dangpos (clientid='Client_01'):\n",
    "    msg = json.loads(MSG_DTC_JSON)\n",
    "    msg ['event'] = EVENT_DANGPOS\n",
    "    msg ['clientid'] = clientid\n",
    "    \n",
    "    return json.dumps(msg)\n",
    "\n",
    "def msg_login (status,clientid='Client_01'):\n",
    "    msg = json.loads(MSG_LOGIN)\n",
    "    msg ['clientid'] = clientid\n",
    "    msg ['event'] = EVENT_LOGIN\n",
    "    msg ['status'] = status\n",
    " \n",
    "    return json.dumps(msg)\n",
    "\n",
    "def msg_buzzer (note,beats,tempo,count,clientid='Client_01'):\n",
    "    msg = json.loads(MDG_RTC_JSON_BUZZER)\n",
    "    msg ['clientid'] = clientid\n",
    "    msg ['event'] = EVENT_BUZZER\n",
    "    msg['paramms'][0] = note\n",
    "    msg['paramms'][1] = beats\n",
    "    msg['paramms'][2] = tempo\n",
    "    msg['paramms'][3] = count\n",
    "    \n",
    "    return json.dumps(msg)\n",
    "\n",
    "def msg_servo (angle,clientid='Client_01'):  \n",
    "    msg = json.loads(MDG_RTC_JSON_SERVO)\n",
    "    msg ['clientid'] = clientid\n",
    "    msg ['event'] = EVENT_SERVO\n",
    "    msg['paramms'][0] = angle\n",
    "    \n",
    "    return json.dumps(msg)\n",
    "\n",
    "def msg_led_stick (color,clientid='Client_01'):   \n",
    "    msg = json.loads(MDG_RTC_JSON_LED_STICK)\n",
    "    msg ['clientid'] = clientid\n",
    "    msg ['event'] = EVENT_LED_STICK\n",
    "    msg['paramms'][0] = color\n",
    "    \n",
    "    return json.dumps(msg)\n",
    "\n",
    "def send_msg_json (action='DTC',event=None,vparam=None,clientid='Client_01'):\n",
    "    msg = None\n",
    "    if vparam == None:\n",
    "        msg = json.loads(MSG_DTC_JSON)\n",
    "        msg ['event'] = event\n",
    "    else:\n",
    "        if event == EVENT_DTTEMP:\n",
    "            msg = json.loads(MSG_DTC_TEMP)\n",
    "            msg ['event'] = event  \n",
    "            msg ['Temp']  = vparam\n",
    "        elif event == EVENT_DTLIGTH:\n",
    "            msg = json.loads(MSG_RTC_LIGHT_INT)\n",
    "            msg ['event']  = event  \n",
    "            msg ['ILight'] = vparam\n",
    "        else:\n",
    "            msg = json.loads(MSG_DTC_JSON)\n",
    "            msg ['event'] = event\n",
    "            \n",
    "    if msg is not None:\n",
    "        msg ['action']   = action \n",
    "        msg ['clientid'] = clientid\n",
    "    json_temp = json.dumps(msg)\n",
    "    \n",
    "    return json_temp\n",
    "\n",
    "def recv_evet_msg_json (msg):\n",
    "    logging.debug ('recv_evet_msg_json')\n",
    "    logging.debug (msg)\n",
    "    str_msg = msg #str(msg.payload.decode(\"utf-8\"))\n",
    "    \n",
    "    event = None\n",
    "    if str_msg is not None and str_msg != '':\n",
    "        msg_in  = json.loads(str_msg) #decode json data\n",
    "        event = msg_in[\"event\"]\n",
    "        logging.info(event)\n",
    "    else:\n",
    "        logging.info (\"NOT str_msg\")\n",
    "\n",
    "    return event\n",
    "\n",
    "def recv_login_msg_json (msg):\n",
    "    logging.debug('recv_login_msg_json')\n",
    "    logging.debug(msg)\n",
    " \n",
    "    str_msg = msg #str(msg.payload.decode(\"utf-8\"))\n",
    "    \n",
    "    status = None\n",
    "    if str_msg is not None:\n",
    "        print(\"str_msg\")\n",
    "        msg_in  = json.loads(str_msg) #decode json data\n",
    "        status = msg_in[\"status\"]\n",
    "    else:\n",
    "        logging.info (\"NOT str_msg\")\n",
    "\n",
    "    return status\n",
    "\n",
    "def recv_intensity_msg_json (msg):\n",
    "    logging.debug('recv_intensity_msg_json')\n",
    "    logging.debug(msg)\n",
    "    str_msg = msg #str(msg.payload.decode(\"utf-8\"))\n",
    "    \n",
    "    paramms = None\n",
    "    if str_msg is not None:\n",
    "        msg_in  = json.loads(str_msg) #decode json data\n",
    "        ILight = msg_in[\"ILight\"]\n",
    "        logging.debug(ILight) \n",
    "    else:\n",
    "        logging.info(\"NOT str_msg\")\n",
    "\n",
    "    return ILight\n",
    "\n",
    "def recv_temp_msg_json (msg):\n",
    "    logging.info('recv_temp_msg_json')\n",
    "    logging.debug(msg)\n",
    "    str_msg = msg #str(msg.payload.decode(\"utf-8\"))\n",
    "    \n",
    "    paramms = None\n",
    "    if str_msg is not None:\n",
    "        msg_in  = json.loads(str_msg) #decode json data\n",
    "        Temp = msg_in[\"Temp\"]\n",
    "    else:\n",
    "        logging.info(\"NOT str_msg\")\n",
    "\n",
    "    return Temp\n",
    "\n",
    "def recv_params_msg_json (msg):\n",
    "    logging.info('recv_params_msg_json')\n",
    "    logging.debug(msg)\n",
    "    str_msg = msg #str(msg.payload.decode(\"utf-8\"))\n",
    "    \n",
    "    paramms = None\n",
    "    if str_msg is not None:\n",
    "        msg_in  = json.loads(str_msg) #decode json data\n",
    "        paramms = msg_in[\"paramms\"]\n",
    "    else:\n",
    "        logging.info (\"NOT str_msg\")\n",
    "\n",
    "    return paramms "
   ]
  },
  {
   "cell_type": "code",
   "execution_count": 18,
   "id": "62d58563",
   "metadata": {},
   "outputs": [
    {
     "name": "stderr",
     "output_type": "stream",
     "text": [
      "2023-01-05 09:02:30,452 root            INFO     BUZZER\n",
      "2023-01-05 09:02:30,464 root            INFO     recv_params_msg_json\n",
      "2023-01-05 09:02:30,474 root            INFO     SERVO\n",
      "2023-01-05 09:02:30,480 root            INFO     recv_params_msg_json\n",
      "2023-01-05 09:02:30,487 root            INFO     LED_STICK\n",
      "2023-01-05 09:02:30,493 root            INFO     recv_params_msg_json\n",
      "2023-01-05 09:02:30,500 root            INFO     DTTEMP\n",
      "2023-01-05 09:02:30,507 root            INFO     recv_temp_msg_json\n",
      "2023-01-05 09:02:30,514 root            INFO     DTLIGTH\n"
     ]
    },
    {
     "name": "stdout",
     "output_type": "stream",
     "text": [
      "{\"clientid\": \"Client_01\", \"action\": \"DTC\", \"event\": \"DROWSINESS\"}\n",
      "{\"clientid\": \"Client_01\", \"action\": \"DTC\", \"event\": \"DTBLINK\"}\n",
      "{\"clientid\": \"Client_01\", \"action\": \"DTC\", \"event\": \"DTYAWN\"}\n",
      "{\"clientid\": \"Client_01\", \"action\": \"DTC\", \"event\": \"DANGPOS\"}\n",
      "{\"clientid\": \"Client_01\", \"action\": \"DTC\", \"event\": \"NFTR\"}\n",
      "{\"clientid\": \"Client_01\", \"action\": \"DTC\", \"event\": \"DTTEMP\", \"Temp\": 23}\n",
      "{\"clientid\": \"Client_01\", \"action\": \"DTC\", \"event\": \"DTLIGTH\", \"ILight\": 23}\n",
      "{\"clientid\": \"Client_01\", \"action\": \"RTC\", \"event\": \"BUZZER\", \"paramms\": [\"a,b,c,d,e,f,g,A\", \"1, 1, 1, 1, 1, 1, 2, 1\", \"10\", \"2\"]}\n",
      "{\"clientid\": \"Client_01\", \"action\": \"RTC\", \"event\": \"LED_STICK\", \"paramms\": [16711935]}\n",
      "{\"clientid\": \"Client_01\", \"action\": \"RTC\", \"event\": \"SERVO\", \"paramms\": [90]}\n",
      "\n",
      "BUZZER\n",
      "['a,b,c,d,e,f,g,A', '1, 1, 1, 1, 1, 1, 2, 1', '10', '3']\n",
      "SERVO\n",
      "[90]\n",
      "LED_STICK\n",
      "[16711935]\n",
      "DTTEMP\n",
      "23\n",
      "DTLIGTH\n",
      "23.2\n"
     ]
    }
   ],
   "source": [
    "print(send_msg_json (event=EVENT_DROWSINESS))\n",
    "print(send_msg_json (event=EVENT_DTBLINK))\n",
    "print(send_msg_json (event=EVENT_DTYAWN))\n",
    "print(send_msg_json (event=EVENT_DANGPOS))\n",
    "print(send_msg_json (event=EVENT_NFTR))\n",
    "print(send_msg_json (event=EVENT_DTTEMP,vparam=23))\n",
    "print(send_msg_json (event=EVENT_DTLIGTH,vparam=23))\n",
    "print(msg_buzzer(\"a,b,c,d,e,f,g,A\",\"1, 1, 1, 1, 1, 1, 2, 1\",\"10\",\"2\"))\n",
    "print(msg_led_stick (0xFF00FF))\n",
    "print(msg_servo (90))\n",
    "print(\"\")\n",
    "\n",
    "print(recv_evet_msg_json (msg_buzzer(\"a,b,c,d,e,f,g,A\",\"1, 1, 1, 1, 1, 1, 2, 1\",\"10\",\"2\")))\n",
    "print(recv_params_msg_json (msg_buzzer(\"a,b,c,d,e,f,g,A\",\"1, 1, 1, 1, 1, 1, 2, 1\",\"10\",\"3\")))\n",
    "\n",
    "print(recv_evet_msg_json (msg_servo (90)))\n",
    "print(recv_params_msg_json (msg_servo (90)))\n",
    " \n",
    "print(recv_evet_msg_json (msg_led_stick (0xFF00FF)))\n",
    "print(recv_params_msg_json (msg_led_stick (0xFF00FF)))\n",
    " \n",
    "print(recv_evet_msg_json (send_msg_json ('RTC',EVENT_DTTEMP,23 )))\n",
    "print(recv_temp_msg_json (send_msg_json ('RTC',EVENT_DTTEMP,23 )))\n",
    "print(recv_evet_msg_json (send_msg_json ('RTC',EVENT_DTLIGTH,23.2)))\n",
    "print(recv_intensity_msg_json (send_msg_json ('RTC',EVENT_DTLIGTH,23.2)))"
   ]
  },
  {
   "cell_type": "markdown",
   "id": "92b10dbf",
   "metadata": {},
   "source": [
    "# 3. Sensores /Actuadores"
   ]
  },
  {
   "cell_type": "markdown",
   "id": "34ba0f0b",
   "metadata": {},
   "source": [
    "## 3.1 Acceso Overlay/Adapter"
   ]
  },
  {
   "cell_type": "code",
   "execution_count": 19,
   "id": "d05c98af",
   "metadata": {},
   "outputs": [],
   "source": [
    "from pynq.overlays.base import BaseOverlay\n",
    " \n",
    "base = BaseOverlay(\"base.bit\")"
   ]
  },
  {
   "cell_type": "code",
   "execution_count": 20,
   "id": "79201c7b",
   "metadata": {},
   "outputs": [],
   "source": [
    "from pynq_peripherals import ArduinoSEEEDGroveAdapter, PmodGroveAdapter\n",
    "\n",
    " \n",
    "\n",
    "adapter  = ArduinoSEEEDGroveAdapter(base.ARDUINO, A3 = 'grove_light', \n",
    "                                    A1 = 'grove_temperature',\n",
    "                                    D3 = 'grove_buzzer',\n",
    "                                    D5 = 'grove_servo', \n",
    "                                    D7 = 'grove_led_stick')\n",
    " \n",
    "ligth       = adapter.A3\n",
    "servo       = adapter.D5\n",
    "buzzer      = adapter.D3\n",
    "led_stick   = adapter.D7\n",
    "temp_sensor = adapter.A1"
   ]
  },
  {
   "cell_type": "code",
   "execution_count": 21,
   "id": "2c106dff",
   "metadata": {},
   "outputs": [
    {
     "name": "stdout",
     "output_type": "stream",
     "text": [
      "temperature: 19.10\n"
     ]
    }
   ],
   "source": [
    "print('temperature: {:.2f}'.format(adapter.A1.get_temperature()))"
   ]
  },
  {
   "cell_type": "markdown",
   "id": "ced35c2e",
   "metadata": {},
   "source": [
    "## 3.2 Lectura Sensores y Modificación Actuadores"
   ]
  },
  {
   "cell_type": "code",
   "execution_count": 22,
   "id": "a7d574a7",
   "metadata": {},
   "outputs": [
    {
     "name": "stderr",
     "output_type": "stream",
     "text": [
      "2023-01-05 09:03:05,942 root            INFO      temp_sensor ( )\n"
     ]
    },
    {
     "name": "stdout",
     "output_type": "stream",
     "text": [
      "temperature: 19.31"
     ]
    },
    {
     "name": "stderr",
     "output_type": "stream",
     "text": [
      "2023-01-05 09:03:05,960 root            INFO     ligth_intensity ( )\n"
     ]
    },
    {
     "name": "stdout",
     "output_type": "stream",
     "text": [
      "\n",
      "Intensidad: 2.75\n"
     ]
    }
   ],
   "source": [
    "# Secciones criticas, cuando modificacmos de forma asincrona actuadores\n",
    "\n",
    "servo_scr     = threading.Semaphore()  #  \n",
    "buzzer_src    = threading.Semaphore()  #  \n",
    "led_stick_scr = threading.Semaphore()  #  \n",
    "leds_rgb_scr  = threading.Semaphore()  #  \n",
    "\n",
    "temp_scr     = threading.Semaphore()  # \n",
    "intent_scr   = threading.Semaphore()  # \n",
    "## SENSORES\n",
    "def get_buttons ():\n",
    "    return base.buttons.read()\n",
    "def temp_sensor ():\n",
    "    logging.info(' temp_sensor ( )')\n",
    "    return round(adapter.A1.get_temperature(),2) #adapter.A1.get_temperature()-25\n",
    "\n",
    "def ligth_intensity ():\n",
    "    logging.info('ligth_intensity ( )')\n",
    "    return adapter.A3.get_intensity()\n",
    "\n",
    "## ACTUADORES\n",
    "def get_color_led_rgb (iled):\n",
    "     return base.rgbleds [iled].read ()\n",
    "    \n",
    "def led_rgb (iled,color):\n",
    "    leds_rgb_scr.acquire()\n",
    "    base.rgbleds [iled].write (color)\n",
    "    leds_rgb_scr.release()\n",
    "    \n",
    "def led_stick (color):\n",
    "    led_stick_scr.acquire()\n",
    "    logging.info(' led_stick ( )')\n",
    "    adapter.D7.clear()\n",
    " \n",
    "    for i in range(10):\n",
    "        adapter.D7.set_pixel(i, color)\n",
    "        #time.sleep(1)\n",
    "    adapter.D7.show()\n",
    "    led_stick_scr.release()\n",
    "    \n",
    "def clean_led_stick ():\n",
    "    led_stick_scr.acquire()\n",
    "    logging.info(' clean_led_stick ( )')\n",
    "    adapter.D7.clear()\n",
    "    led_stick_scr.release()\n",
    "        \n",
    "def buzzer (note,beats,tempo):\n",
    "    buzzer_src.acquire()\n",
    "    logging.info(' buzzer ( )')\n",
    " \n",
    "\n",
    "    adapter.D3.play_tone(262, 500) \n",
    "    adapter.D3.play_note('g', 500)\n",
    "    from time import sleep\n",
    "    notes = note#['a','b','c','d','e','f','g','A']\n",
    "    beats = beats#[1, 1, 1, 1, 1, 1, 2, 1]\n",
    "    tempo = tempo #20 in ms\n",
    "    for [note, beat] in zip(notes, beats):\n",
    "        if note==' ':\n",
    "            sleep(0.001 * beat * tempo)\n",
    "        else:\n",
    "            adapter.D3.play_note(note,beat*tempo)\n",
    "        sleep(0.001*tempo/2)\n",
    "    buzzer_src.release()\n",
    "    \n",
    "def servo (angle):\n",
    "    servo_scr.acquire()\n",
    "    logging.info (' servo ()')\n",
    "    print (angle)\n",
    "    \n",
    "    for gl in range(0, angle, 10):\n",
    "        print(f\"{gl} degree\")\n",
    "        adapter.D5.set_angular_position(gl)\n",
    "        sleep(0.5)\n",
    "    for gl in range(angle, 0, -10):\n",
    "        print(f\"{gl} degree\")\n",
    "        adapter.D5.set_angular_position(gl)\n",
    "        sleep(0.5)\n",
    "    servo_scr.release()   \n",
    "    \n",
    "def voice (msg):\n",
    "    \"\"\"\n",
    "        Falta ver como añadir altavoz y sacar el mensaje\n",
    "    \"\"\"\n",
    "    print (msg)\n",
    "    \n",
    "print('temperature: {:.2f}'.format(temp_sensor ()))\n",
    "print('Intensidad: {:.2f}'.format(ligth_intensity ()))"
   ]
  },
  {
   "cell_type": "code",
   "execution_count": 23,
   "id": "17c9548a",
   "metadata": {},
   "outputs": [
    {
     "name": "stderr",
     "output_type": "stream",
     "text": [
      "2023-01-05 09:03:06,005 root            INFO      servo ()\n"
     ]
    },
    {
     "name": "stdout",
     "output_type": "stream",
     "text": [
      "10\n",
      "0 degree\n",
      "10 degree\n"
     ]
    }
   ],
   "source": [
    "servo (10)"
   ]
  },
  {
   "cell_type": "markdown",
   "id": "68e46c33",
   "metadata": {},
   "source": [
    "# 4. Comunicación UART/Bluetooth"
   ]
  },
  {
   "cell_type": "markdown",
   "id": "ccb62c59",
   "metadata": {},
   "source": [
    "## 4.1 Configuración UART"
   ]
  },
  {
   "cell_type": "code",
   "execution_count": 46,
   "id": "17e0f8c9",
   "metadata": {},
   "outputs": [],
   "source": [
    "comando_AT_test = \"AT\"\n",
    "\n",
    "comando_AT_get_name = \"AT+NAME?\"\n",
    "## Definir comando AT+NAMEXXXXX  Ej: BT_IOT\n",
    "\n",
    "comando_AT_get_pin = \"AT+PIN?\"\n",
    "## Definir comando AT+PINXXXXX   Ej: 2022\n",
    "\n",
    "comando_AT_get_bau = \"AT+BAUD?\"\n",
    "comando_AT_SECH    = \"AT+SECH?\"\n",
    "comando_AT_DEF     = \"AT+UART_DEF?\""
   ]
  },
  {
   "cell_type": "code",
   "execution_count": 47,
   "id": "e5aa524c",
   "metadata": {},
   "outputs": [],
   "source": [
    "from pynq.lib import MicroblazeLibrary\n",
    "UART_RXD = 0  ## Módulo BT pin 0 es RXD\n",
    "UART_TXD = 1  ## Módulo BT pin 1 es TXD\n",
    "\n",
    "lib_uart = MicroblazeLibrary(base.ARDUINO, ['uart'])\n",
    "uart_scr = threading.Semaphore()  # "
   ]
  },
  {
   "cell_type": "code",
   "execution_count": 48,
   "id": "a1698046",
   "metadata": {},
   "outputs": [],
   "source": [
    "def recv_cmd (dispositivo_uart):\n",
    "    len_respuesta = 10\n",
    "    respuesta = [0x00] * len_respuesta\n",
    " \n",
    "    dispositivo_uart.read(respuesta,len_respuesta)  \n",
    "    sleep(0.1)\n",
    "    \n",
    "    return respuesta\n",
    "\n",
    "def send_cmd (dispositivo_uart, comando_at):\n",
    "    comando = bytes(comando_at, 'utf-8')\n",
    "    logging.info (comando_at)\n",
    "    \n",
    "    dispositivo_uart.write(list(comando), len(comando))\n",
    "    sleep(0.3) ## Ajustable entre [0.15-0.5] ms\n",
    "    \n",
    "def send_synq_cmd (dispositivo_uart, comando_at):\n",
    "    \n",
    "    comando = bytes(comando_at, 'utf-8')\n",
    "    logging.info (comando_at)\n",
    "    \n",
    "    dispositivo_uart.write(list(comando), len(comando))\n",
    "    sleep(0.3) ## Ajustable entre [0.15-0.5] ms\n",
    "    \n",
    "    respuesta = recv_cmd (dispositivo_uart)\n",
    "    # Mostrar respuesta en ASCII\n",
    "    for i in respuesta:\n",
    "        print(chr(i), end='')\n",
    "        \n",
    "    logging.info(respuesta)  # <list>"
   ]
  },
  {
   "cell_type": "code",
   "execution_count": 49,
   "id": "882dbee6",
   "metadata": {},
   "outputs": [
    {
     "name": "stderr",
     "output_type": "stream",
     "text": [
      "2023-01-05 09:44:50,015 root            INFO     AT\n",
      "2023-01-05 09:44:50,430 root            INFO     [79, 75, 0, 0, 0, 0, 0, 0, 0, 0]\n",
      "2023-01-05 09:44:50,444 root            INFO     AT+NAMEBT001_TAR\n"
     ]
    },
    {
     "name": "stdout",
     "output_type": "stream",
     "text": [
      "OK\u0000\u0000\u0000\u0000\u0000\u0000\u0000\u0000"
     ]
    },
    {
     "name": "stderr",
     "output_type": "stream",
     "text": [
      "2023-01-05 09:44:50,856 root            INFO     [79, 75, 43, 83, 101, 116, 58, 66, 84, 48]\n",
      "2023-01-05 09:44:50,869 root            INFO     AT+PIN2305\n"
     ]
    },
    {
     "name": "stdout",
     "output_type": "stream",
     "text": [
      "OK+Set:BT0"
     ]
    },
    {
     "name": "stderr",
     "output_type": "stream",
     "text": [
      "2023-01-05 09:44:51,281 root            INFO     [48, 49, 95, 84, 65, 82, 79, 75, 43, 83]\n",
      "2023-01-05 09:44:51,294 root            INFO     AT+BAUD?\n"
     ]
    },
    {
     "name": "stdout",
     "output_type": "stream",
     "text": [
      "01_TAROK+S"
     ]
    },
    {
     "name": "stderr",
     "output_type": "stream",
     "text": [
      "2023-01-05 09:44:51,706 root            INFO     [101, 116, 58, 50, 51, 48, 79, 75, 43, 66]\n",
      "2023-01-05 09:44:51,719 root            INFO     AT+PIN?\n"
     ]
    },
    {
     "name": "stdout",
     "output_type": "stream",
     "text": [
      "et:230OK+B"
     ]
    },
    {
     "name": "stderr",
     "output_type": "stream",
     "text": [
      "2023-01-05 09:44:52,130 root            INFO     [65, 85, 68, 58, 57, 54, 79, 75, 43, 80]\n",
      "2023-01-05 09:44:52,144 root            INFO     AT+SECH?\n"
     ]
    },
    {
     "name": "stdout",
     "output_type": "stream",
     "text": [
      "AUD:96OK+P"
     ]
    },
    {
     "name": "stderr",
     "output_type": "stream",
     "text": [
      "2023-01-05 09:44:52,555 root            INFO     [73, 78, 58, 50, 51, 48, 79, 75, 43, 83]\n"
     ]
    },
    {
     "name": "stdout",
     "output_type": "stream",
     "text": [
      "IN:230OK+S"
     ]
    }
   ],
   "source": [
    "from IPython.display import clear_output\n",
    "uart = lib_uart.uart_open(UART_TXD, UART_RXD)\n",
    "\n",
    "comando_AT_test = \"AT\"\n",
    "comando_AT_set_name = \"AT+NAMEBT001_TAR\"\n",
    "comando_AT_set_pin = \"AT+PIN2305\"\n",
    "\n",
    "send_synq_cmd(uart, comando_AT_test)\n",
    "\n",
    "send_synq_cmd(uart, comando_AT_set_name)\n",
    "send_synq_cmd(uart, comando_AT_set_pin)\n",
    "\n",
    "send_synq_cmd(uart, comando_AT_get_bau)\n",
    "send_synq_cmd(uart, comando_AT_get_pin)\n",
    "send_synq_cmd(uart, comando_AT_SECH)\n",
    " \n",
    "clear_output(wait=True)"
   ]
  },
  {
   "cell_type": "markdown",
   "id": "12c049b9",
   "metadata": {},
   "source": [
    "## 4.2 Hilo escucha comunicación UART/Bluetooth"
   ]
  },
  {
   "cell_type": "code",
   "execution_count": 50,
   "id": "ced8ef1c",
   "metadata": {},
   "outputs": [],
   "source": [
    "# app_connect: varaible global conexión uart/bluetooth\n",
    "\n",
    "import re\n",
    "from pynq.lib.rgbled  import RGBLED\n",
    "\n",
    "RGBLEDS_XGPIO_OFFSET = 0\n",
    "RGBLEDS_START_INDEX  = 4\n",
    "RGB_CLEAR    = 0\n",
    "RGB_BLUE     = 1\n",
    "RGB_GREEN    = 2\n",
    "RGB_CYAN     = 3\n",
    "RGB_RED      = 4\n",
    "RGB_MAGENTA  = 5\n",
    "RGB_YELLOW   = 6\n",
    "RGB_WHITE    = 7\n",
    "MAX_LEDS_RGB = 2\n",
    "\n",
    "rgbled_position = [4,5]\n",
    "Delay0 = 1.0\n",
    "Delay1 = 0.3\n",
    "Delay2 = 0.1\n",
    "color  = 0\n",
    "    \n",
    " \n",
    "def decode (word):\n",
    "    sentence = ''\n",
    "    if word is not None and word != '':\n",
    "        for i in word:\n",
    "            sentence = sentence + (chr(i)).strip()\n",
    "        return  sentence.strip()\n",
    "    else:\n",
    "        return \" \"\n",
    "    \n",
    "def disconnect_uart ():\n",
    "    logging.info (\"def disconnect_uart ():\")\n",
    "    if 'uart' in globals():\n",
    "        uart.close()\n",
    "        \n",
    "def process_cmd (cmd_uart):\n",
    "    \"\"\"\n",
    "        Si nos envian el color azul:  conectamso Hivemqt y nos subscribimos topic para ver los eventos.\n",
    "        Si nos envian el coor rojo: nps desconectamos Hivemqtt y nos desuscribimos topic\n",
    "    \"\"\"\n",
    "    logging.info(\"def process_cmd (cmd_uart):\")\n",
    "    logging.info(cmd_uart)\n",
    "    \n",
    "    led_ix = int(cmd_uart[0])         #RGBLEDS_START_INDEX \n",
    "    color  = int(cmd_uart[1])        #Encendemos el testigo de app ok (verde led rgb)'\n",
    "    app_r  = False\n",
    "    app_connect = 0\n",
    "    if (color == RGB_GREEN):\n",
    "        # En este caso se escuchan los mensajes de la Cola HiveMQTT\n",
    "        if  get_color_led_rgb (4) ==  2 :\n",
    "            logging.info (\"La App ya está arrancada!!!!.\")\n",
    "        else:\n",
    "            #Encendemos el testigo de app ok (verde led rgb)\n",
    "            logging.info('Encendemos el testigo de app ok (verde led rgb)')\n",
    "            logging.info(led_ix)\n",
    "            logging.info(color)\n",
    "            led_rgb (led_ix,color)\n",
    "    elif(color == RGB_RED):\n",
    "        # Nos desconectamos de HiveMqtt y salimos de la app\n",
    "        if  get_color_led_rgb (4) ==  2:\n",
    "            #clean_led_stick ()\n",
    "            #Encendemos el testigo de app nok(rojo led rgb)\n",
    "            led_rgb (led_ix,color)\n",
    "        else:\n",
    "             logging.info (\"La App no estaba en funcionamiento!!!!.\")\n",
    "    else:\n",
    "        logging.info (\"Comando Incorrecto!!!\")\n",
    " \n",
    " \n",
    "def init_uart (event_uart):\n",
    "    \n",
    "    patron = re.compile('\\[(\\d)*,(\\d)*\\]') #Patrón de entrada [4,5]\n",
    "    #buttons  = [base.buttons[index] for index in range (4)]   \n",
    "\n",
    "    for led in base.leds:\n",
    "        led.on()\n",
    "        \n",
    "    for led in rgbled_position:\n",
    "        led_rgb (led,color)\n",
    " \n",
    "    while True:\n",
    "        if event_uart.is_set():\n",
    "            break\n",
    "        logging.info(\"Leemos de la uart\")\n",
    "        word = recv_cmd (uart)\n",
    "        sleep (Delay0)\n",
    "        if word is not None and word != '':\n",
    "            sentence = decode (word)\n",
    "\n",
    "            logging.info(sentence)\n",
    "            # Comprobamos si nos llega una petición a través de UART/bluetooth\n",
    "            #---------------------------------------\n",
    "            if patron.match(sentence) != None:\n",
    "                logging.info(\"Comando Correcto\")\n",
    "\n",
    "                s =  [int(s) for s in re.findall(r'-?\\d+\\.?\\d*', sentence)]\n",
    "\n",
    "                logging.info (s)\n",
    "                app_connect = process_cmd (s)\n",
    "\n",
    "                #send_cmd (uart, 'App NOK')\n",
    "            else:\n",
    "                print ('Valor de entrada no es un comando valido: command =[',sentence,']')\n",
    "        sleep(15)\n",
    "        if  get_color_led_rgb (4) ==  4:\n",
    "            break\n",
    "    #--------------------------------- "
   ]
  },
  {
   "cell_type": "markdown",
   "id": "81c40888",
   "metadata": {},
   "source": [
    "### 3.0 Test uart \n",
    "\n",
    "Nota: Debe tener un error el overlay base. Al tiempo de estar leyendo sobre el puerto, se produce una excepción que viene de las clases de MicroblazeLibrary. He perdido muchisimo tiempo con esto, y no puedo detectar porque pasa. Es en la lectura del puerto dispositivo_uart.read(respuesta, len_respuesta)\n",
    "\n",
    "\n",
    "EXcepción:\n",
    "\n",
    "File \"/usr/lib/python3.10/threading.py\", line 1009, in _bootstrap_inner\n",
    "    self.run()\n",
    "  File \"/usr/lib/python3.10/threading.py\", line 946, in run\n",
    "    self._target(*self._args, **self._kwargs)\n",
    "  File \"/tmp/ipykernel_1041/2832240255.py\", line 88, in init_uart\n",
    "  File \"/tmp/ipykernel_1041/3418831147.py\", line 5, in recv_cmd\n",
    "  File \"<string>\", line 3, in wrapped\n",
    "  File \"/usr/local/share/pynq-venv/lib/python3.10/site-packages/pynq/lib/pynqmicroblaze/rpc.py\", line 790, in _call_func\n",
    "    return function(self._val, *args)\n",
    "  File \"<string>\", line 3, in call\n",
    "  File \"/usr/local/share/pynq-venv/lib/python3.10/site-packages/pynq/lib/pynqmicroblaze/rpc.py\", line 883, in call\n",
    "    return_value, done = self._handle_stream(*args)\n",
    "  File \"/usr/local/share/pynq-venv/lib/python3.10/site-packages/pynq/lib/pynqmicroblaze/rpc.py\", line 871, in _handle_stream\n",
    "    return self.function.receive_response(self.stream, *args), True\n",
    "  File \"/usr/local/share/pynq-venv/lib/python3.10/site-packages/pynq/lib/pynqmicroblaze/rpc.py\", line 551, in receive_response\n",
    "    [\n",
    "  File \"/usr/local/share/pynq-venv/lib/python3.10/site-packages/pynq/lib/pynqmicroblaze/rpc.py\", line 552, in <listcomp>\n",
    "    f.param_decode(a, stream)\n",
    "  File \"/usr/local/share/pynq-venv/lib/python3.10/site-packages/pynq/lib/pynqmicroblaze/rpc.py\", line 217, in param_decode\n",
    "    assert length == len(old_val)\n",
    "AssertionError"
   ]
  },
  {
   "cell_type": "code",
   "execution_count": 51,
   "id": "089e190b",
   "metadata": {},
   "outputs": [
    {
     "name": "stderr",
     "output_type": "stream",
     "text": [
      "2023-01-05 09:45:13,873 root            INFO     Leemos de la uart\n",
      "2023-01-05 09:45:14,992 root            INFO     ECH:OK\u0000\u0000\u0000\u0000\n"
     ]
    },
    {
     "name": "stdout",
     "output_type": "stream",
     "text": [
      "Valor de entrada no es un comando valido: command =[ ECH:OK\u0000\u0000\u0000\u0000 ]\n"
     ]
    },
    {
     "name": "stderr",
     "output_type": "stream",
     "text": [
      "2023-01-05 09:45:30,012 root            INFO     Leemos de la uart\n",
      "2023-01-05 09:45:31,121 root            INFO     \u0000\u0000\u0000\u0000\u0000\u0000\u0000\u0000\u0000\u0000\n"
     ]
    },
    {
     "name": "stdout",
     "output_type": "stream",
     "text": [
      "Valor de entrada no es un comando valido: command =[ \u0000\u0000\u0000\u0000\u0000\u0000\u0000\u0000\u0000\u0000 ]\n"
     ]
    },
    {
     "name": "stderr",
     "output_type": "stream",
     "text": [
      "2023-01-05 09:45:46,142 root            INFO     Leemos de la uart\n",
      "2023-01-05 09:45:47,250 root            INFO     \u0000\u0000\u0000\u0000\u0000\u0000\u0000\u0000\u0000\u0000\n"
     ]
    },
    {
     "name": "stdout",
     "output_type": "stream",
     "text": [
      "Valor de entrada no es un comando valido: command =[ \u0000\u0000\u0000\u0000\u0000\u0000\u0000\u0000\u0000\u0000 ]\n"
     ]
    },
    {
     "name": "stderr",
     "output_type": "stream",
     "text": [
      "2023-01-05 09:46:02,271 root            INFO     Leemos de la uart\n",
      "2023-01-05 09:46:03,380 root            INFO     \u0000\u0000\u0000\u0000\u0000\u0000\u0000\u0000\u0000\u0000\n"
     ]
    },
    {
     "name": "stdout",
     "output_type": "stream",
     "text": [
      "Valor de entrada no es un comando valido: command =[ \u0000\u0000\u0000\u0000\u0000\u0000\u0000\u0000\u0000\u0000 ]\n"
     ]
    },
    {
     "name": "stderr",
     "output_type": "stream",
     "text": [
      "2023-01-05 09:46:18,401 root            INFO     Leemos de la uart\n",
      "2023-01-05 09:46:19,509 root            INFO     \u0000\u0000\u0000\u0000\u0000\u0000\u0000\u0000\u0000\u0000\n"
     ]
    },
    {
     "name": "stdout",
     "output_type": "stream",
     "text": [
      "Valor de entrada no es un comando valido: command =[ \u0000\u0000\u0000\u0000\u0000\u0000\u0000\u0000\u0000\u0000 ]\n"
     ]
    },
    {
     "name": "stderr",
     "output_type": "stream",
     "text": [
      "2023-01-05 09:46:34,530 root            INFO     Leemos de la uart\n",
      "2023-01-05 09:46:35,638 root            INFO     \u0000\u0000\u0000\u0000\u0000\u0000\u0000\u0000\u0000\u0000\n"
     ]
    },
    {
     "name": "stdout",
     "output_type": "stream",
     "text": [
      "Valor de entrada no es un comando valido: command =[ \u0000\u0000\u0000\u0000\u0000\u0000\u0000\u0000\u0000\u0000 ]\n"
     ]
    },
    {
     "name": "stderr",
     "output_type": "stream",
     "text": [
      "2023-01-05 09:46:50,659 root            INFO     Leemos de la uart\n",
      "2023-01-05 09:46:51,768 root            INFO     \u0000\u0000\u0000\u0000\u0000\u0000\u0000\u0000\u0000\u0000\n"
     ]
    },
    {
     "name": "stdout",
     "output_type": "stream",
     "text": [
      "Valor de entrada no es un comando valido: command =[ \u0000\u0000\u0000\u0000\u0000\u0000\u0000\u0000\u0000\u0000 ]\n"
     ]
    },
    {
     "name": "stderr",
     "output_type": "stream",
     "text": [
      "2023-01-05 09:47:06,789 root            INFO     Leemos de la uart\n",
      "2023-01-05 09:47:07,897 root            INFO     \u0000\u0000\u0000\u0000\u0000\u0000\u0000\u0000\u0000\u0000\n"
     ]
    },
    {
     "name": "stdout",
     "output_type": "stream",
     "text": [
      "Valor de entrada no es un comando valido: command =[ \u0000\u0000\u0000\u0000\u0000\u0000\u0000\u0000\u0000\u0000 ]\n"
     ]
    },
    {
     "name": "stderr",
     "output_type": "stream",
     "text": [
      "2023-01-05 09:47:22,918 root            INFO     Leemos de la uart\n",
      "2023-01-05 09:47:24,026 root            INFO     \u0000\u0000\u0000\u0000\u0000\u0000\u0000\u0000\u0000\u0000\n"
     ]
    },
    {
     "name": "stdout",
     "output_type": "stream",
     "text": [
      "Valor de entrada no es un comando valido: command =[ \u0000\u0000\u0000\u0000\u0000\u0000\u0000\u0000\u0000\u0000 ]\n"
     ]
    },
    {
     "name": "stderr",
     "output_type": "stream",
     "text": [
      "2023-01-05 09:47:39,047 root            INFO     Leemos de la uart\n",
      "2023-01-05 09:47:40,155 root            INFO     \u0000\u0000\u0000\u0000\u0000\u0000\u0000\u0000\u0000\u0000\n"
     ]
    },
    {
     "name": "stdout",
     "output_type": "stream",
     "text": [
      "Valor de entrada no es un comando valido: command =[ \u0000\u0000\u0000\u0000\u0000\u0000\u0000\u0000\u0000\u0000 ]\n"
     ]
    },
    {
     "name": "stderr",
     "output_type": "stream",
     "text": [
      "2023-01-05 09:47:55,176 root            INFO     Leemos de la uart\n",
      "2023-01-05 09:47:56,285 root            INFO     \u0000\u0000\u0000\u0000\u0000\u0000\u0000\u0000\u0000\u0000\n"
     ]
    },
    {
     "name": "stdout",
     "output_type": "stream",
     "text": [
      "Valor de entrada no es un comando valido: command =[ \u0000\u0000\u0000\u0000\u0000\u0000\u0000\u0000\u0000\u0000 ]\n"
     ]
    },
    {
     "name": "stderr",
     "output_type": "stream",
     "text": [
      "2023-01-05 09:48:11,306 root            INFO     Leemos de la uart\n",
      "2023-01-05 09:48:12,414 root            INFO     \u0000\u0000\u0000\u0000\u0000\u0000\u0000\u0000\u0000\u0000\n"
     ]
    },
    {
     "name": "stdout",
     "output_type": "stream",
     "text": [
      "Valor de entrada no es un comando valido: command =[ \u0000\u0000\u0000\u0000\u0000\u0000\u0000\u0000\u0000\u0000 ]\n"
     ]
    },
    {
     "name": "stderr",
     "output_type": "stream",
     "text": [
      "2023-01-05 09:48:27,435 root            INFO     Leemos de la uart\n",
      "2023-01-05 09:48:28,543 root            INFO     \u0000\u0000\u0000\u0000\u0000\u0000\u0000\u0000\u0000\u0000\n"
     ]
    },
    {
     "name": "stdout",
     "output_type": "stream",
     "text": [
      "Valor de entrada no es un comando valido: command =[ \u0000\u0000\u0000\u0000\u0000\u0000\u0000\u0000\u0000\u0000 ]\n"
     ]
    },
    {
     "name": "stderr",
     "output_type": "stream",
     "text": [
      "2023-01-05 09:48:43,564 root            INFO     Leemos de la uart\n",
      "2023-01-05 09:48:44,672 root            INFO     \u0000\u0000\u0000\u0000\u0000\u0000\u0000\u0000\u0000\u0000\n"
     ]
    },
    {
     "name": "stdout",
     "output_type": "stream",
     "text": [
      "Valor de entrada no es un comando valido: command =[ \u0000\u0000\u0000\u0000\u0000\u0000\u0000\u0000\u0000\u0000 ]\n"
     ]
    },
    {
     "name": "stderr",
     "output_type": "stream",
     "text": [
      "2023-01-05 09:48:59,693 root            INFO     Leemos de la uart\n",
      "2023-01-05 09:49:00,802 root            INFO     \u0000\u0000\u0000\u0000\u0000\u0000\u0000\u0000\u0000\u0000\n"
     ]
    },
    {
     "name": "stdout",
     "output_type": "stream",
     "text": [
      "Valor de entrada no es un comando valido: command =[ \u0000\u0000\u0000\u0000\u0000\u0000\u0000\u0000\u0000\u0000 ]\n"
     ]
    },
    {
     "name": "stderr",
     "output_type": "stream",
     "text": [
      "2023-01-05 09:49:15,822 root            INFO     Leemos de la uart\n",
      "2023-01-05 09:49:16,931 root            INFO     \u0000\u0000\u0000\u0000\u0000\u0000\u0000\u0000\u0000\u0000\n"
     ]
    },
    {
     "name": "stdout",
     "output_type": "stream",
     "text": [
      "Valor de entrada no es un comando valido: command =[ \u0000\u0000\u0000\u0000\u0000\u0000\u0000\u0000\u0000\u0000 ]\n"
     ]
    },
    {
     "name": "stderr",
     "output_type": "stream",
     "text": [
      "2023-01-05 09:49:31,952 root            INFO     Leemos de la uart\n",
      "2023-01-05 09:49:33,060 root            INFO     \u0000\u0000\u0000\u0000\u0000\u0000\u0000\u0000\u0000\u0000\n"
     ]
    },
    {
     "name": "stdout",
     "output_type": "stream",
     "text": [
      "Valor de entrada no es un comando valido: command =[ \u0000\u0000\u0000\u0000\u0000\u0000\u0000\u0000\u0000\u0000 ]\n"
     ]
    },
    {
     "name": "stderr",
     "output_type": "stream",
     "text": [
      "2023-01-05 09:49:48,081 root            INFO     Leemos de la uart\n",
      "2023-01-05 09:49:49,190 root            INFO     \u0000\u0000\u0000\u0000\u0000\u0000\u0000\u0000\u0000\u0000\n"
     ]
    },
    {
     "name": "stdout",
     "output_type": "stream",
     "text": [
      "Valor de entrada no es un comando valido: command =[ \u0000\u0000\u0000\u0000\u0000\u0000\u0000\u0000\u0000\u0000 ]\n"
     ]
    },
    {
     "name": "stderr",
     "output_type": "stream",
     "text": [
      "2023-01-05 09:50:04,210 root            INFO     Leemos de la uart\n",
      "2023-01-05 09:50:05,319 root            INFO     \u0000\u0000\u0000\u0000\u0000\u0000\u0000\u0000\u0000\u0000\n"
     ]
    },
    {
     "name": "stdout",
     "output_type": "stream",
     "text": [
      "Valor de entrada no es un comando valido: command =[ \u0000\u0000\u0000\u0000\u0000\u0000\u0000\u0000\u0000\u0000 ]\n"
     ]
    },
    {
     "name": "stderr",
     "output_type": "stream",
     "text": [
      "2023-01-05 09:50:20,333 root            INFO     Leemos de la uart\n",
      "2023-01-05 09:50:21,442 root            INFO     \u0000\u0000\u0000\u0000\u0000\u0000\u0000\u0000\u0000\u0000\n"
     ]
    },
    {
     "name": "stdout",
     "output_type": "stream",
     "text": [
      "Valor de entrada no es un comando valido: command =[ \u0000\u0000\u0000\u0000\u0000\u0000\u0000\u0000\u0000\u0000 ]\n"
     ]
    },
    {
     "name": "stderr",
     "output_type": "stream",
     "text": [
      "2023-01-05 09:50:36,463 root            INFO     Leemos de la uart\n",
      "2023-01-05 09:50:37,571 root            INFO     \u0000\u0000\u0000\u0000\u0000\u0000\u0000\u0000\u0000\u0000\n"
     ]
    },
    {
     "name": "stdout",
     "output_type": "stream",
     "text": [
      "Valor de entrada no es un comando valido: command =[ \u0000\u0000\u0000\u0000\u0000\u0000\u0000\u0000\u0000\u0000 ]\n"
     ]
    },
    {
     "name": "stderr",
     "output_type": "stream",
     "text": [
      "2023-01-05 09:50:52,592 root            INFO     Leemos de la uart\n",
      "2023-01-05 09:50:53,701 root            INFO     \u0000\u0000\u0000\u0000\u0000\u0000\u0000\u0000\u0000\u0000\n"
     ]
    },
    {
     "name": "stdout",
     "output_type": "stream",
     "text": [
      "Valor de entrada no es un comando valido: command =[ \u0000\u0000\u0000\u0000\u0000\u0000\u0000\u0000\u0000\u0000 ]\n"
     ]
    },
    {
     "name": "stderr",
     "output_type": "stream",
     "text": [
      "2023-01-05 09:51:08,722 root            INFO     Leemos de la uart\n",
      "2023-01-05 09:51:09,830 root            INFO     \u0000\u0000\u0000\u0000\u0000\u0000\u0000\u0000\u0000\u0000\n"
     ]
    },
    {
     "name": "stdout",
     "output_type": "stream",
     "text": [
      "Valor de entrada no es un comando valido: command =[ \u0000\u0000\u0000\u0000\u0000\u0000\u0000\u0000\u0000\u0000 ]\n"
     ]
    },
    {
     "name": "stderr",
     "output_type": "stream",
     "text": [
      "2023-01-05 09:51:24,851 root            INFO     Leemos de la uart\n",
      "2023-01-05 09:51:25,959 root            INFO     \u0000\u0000\u0000\u0000\u0000\u0000\u0000\u0000\u0000\u0000\n"
     ]
    },
    {
     "name": "stdout",
     "output_type": "stream",
     "text": [
      "Valor de entrada no es un comando valido: command =[ \u0000\u0000\u0000\u0000\u0000\u0000\u0000\u0000\u0000\u0000 ]\n"
     ]
    },
    {
     "name": "stderr",
     "output_type": "stream",
     "text": [
      "2023-01-05 09:51:40,980 root            INFO     Leemos de la uart\n",
      "2023-01-05 09:51:42,089 root            INFO     \u0000\u0000\u0000\u0000\u0000\u0000\u0000\u0000\u0000\u0000\n"
     ]
    },
    {
     "name": "stdout",
     "output_type": "stream",
     "text": [
      "Valor de entrada no es un comando valido: command =[ \u0000\u0000\u0000\u0000\u0000\u0000\u0000\u0000\u0000\u0000 ]\n"
     ]
    },
    {
     "name": "stderr",
     "output_type": "stream",
     "text": [
      "2023-01-05 09:51:57,110 root            INFO     Leemos de la uart\n",
      "2023-01-05 09:51:58,220 root            INFO     \u0000\u0000\u0000\u0000\u0000\u0000\u0000\u0000\u0000\u0000\n"
     ]
    },
    {
     "name": "stdout",
     "output_type": "stream",
     "text": [
      "Valor de entrada no es un comando valido: command =[ \u0000\u0000\u0000\u0000\u0000\u0000\u0000\u0000\u0000\u0000 ]\n"
     ]
    },
    {
     "name": "stderr",
     "output_type": "stream",
     "text": [
      "2023-01-05 09:52:13,241 root            INFO     Leemos de la uart\n",
      "2023-01-05 09:52:14,349 root            INFO     \u0000\u0000\u0000\u0000\u0000\u0000\u0000\u0000\u0000\u0000\n"
     ]
    },
    {
     "name": "stdout",
     "output_type": "stream",
     "text": [
      "Valor de entrada no es un comando valido: command =[ \u0000\u0000\u0000\u0000\u0000\u0000\u0000\u0000\u0000\u0000 ]\n"
     ]
    },
    {
     "name": "stderr",
     "output_type": "stream",
     "text": [
      "2023-01-05 09:52:29,370 root            INFO     Leemos de la uart\n",
      "2023-01-05 09:52:30,478 root            INFO     \u0000\u0000\u0000\u0000\u0000\u0000\u0000\u0000\u0000\u0000\n"
     ]
    },
    {
     "name": "stdout",
     "output_type": "stream",
     "text": [
      "Valor de entrada no es un comando valido: command =[ \u0000\u0000\u0000\u0000\u0000\u0000\u0000\u0000\u0000\u0000 ]\n"
     ]
    },
    {
     "name": "stderr",
     "output_type": "stream",
     "text": [
      "2023-01-05 09:52:45,499 root            INFO     Leemos de la uart\n",
      "2023-01-05 09:52:46,608 root            INFO     \u0000\u0000\u0000\u0000\u0000\u0000\u0000\u0000\u0000\u0000\n"
     ]
    },
    {
     "name": "stdout",
     "output_type": "stream",
     "text": [
      "Valor de entrada no es un comando valido: command =[ \u0000\u0000\u0000\u0000\u0000\u0000\u0000\u0000\u0000\u0000 ]\n"
     ]
    },
    {
     "name": "stderr",
     "output_type": "stream",
     "text": [
      "2023-01-05 09:53:01,628 root            INFO     Leemos de la uart\n",
      "2023-01-05 09:53:02,737 root            INFO     \u0000\u0000\u0000\u0000\u0000\u0000\u0000\u0000\u0000\u0000\n"
     ]
    },
    {
     "name": "stdout",
     "output_type": "stream",
     "text": [
      "Valor de entrada no es un comando valido: command =[ \u0000\u0000\u0000\u0000\u0000\u0000\u0000\u0000\u0000\u0000 ]\n"
     ]
    },
    {
     "name": "stderr",
     "output_type": "stream",
     "text": [
      "2023-01-05 09:53:17,758 root            INFO     Leemos de la uart\n",
      "2023-01-05 09:53:18,866 root            INFO     \u0000\u0000\u0000\u0000\u0000\u0000\u0000\u0000\u0000\u0000\n"
     ]
    },
    {
     "name": "stdout",
     "output_type": "stream",
     "text": [
      "Valor de entrada no es un comando valido: command =[ \u0000\u0000\u0000\u0000\u0000\u0000\u0000\u0000\u0000\u0000 ]\n"
     ]
    },
    {
     "name": "stderr",
     "output_type": "stream",
     "text": [
      "2023-01-05 09:53:33,887 root            INFO     Leemos de la uart\n",
      "2023-01-05 09:53:34,996 root            INFO     \u0000\u0000\u0000\u0000\u0000\u0000\u0000\u0000\u0000\u0000\n"
     ]
    },
    {
     "name": "stdout",
     "output_type": "stream",
     "text": [
      "Valor de entrada no es un comando valido: command =[ \u0000\u0000\u0000\u0000\u0000\u0000\u0000\u0000\u0000\u0000 ]\n"
     ]
    },
    {
     "name": "stderr",
     "output_type": "stream",
     "text": [
      "2023-01-05 09:53:50,016 root            INFO     Leemos de la uart\n",
      "2023-01-05 09:53:51,125 root            INFO     \u0000\u0000\u0000\u0000\u0000\u0000\u0000\u0000\u0000\u0000\n"
     ]
    },
    {
     "name": "stdout",
     "output_type": "stream",
     "text": [
      "Valor de entrada no es un comando valido: command =[ \u0000\u0000\u0000\u0000\u0000\u0000\u0000\u0000\u0000\u0000 ]\n"
     ]
    },
    {
     "name": "stderr",
     "output_type": "stream",
     "text": [
      "2023-01-05 09:54:06,143 root            INFO     Leemos de la uart\n",
      "2023-01-05 09:54:07,252 root            INFO     \u0000\u0000\u0000\u0000\u0000\u0000\u0000\u0000\u0000\u0000\n"
     ]
    },
    {
     "name": "stdout",
     "output_type": "stream",
     "text": [
      "Valor de entrada no es un comando valido: command =[ \u0000\u0000\u0000\u0000\u0000\u0000\u0000\u0000\u0000\u0000 ]\n"
     ]
    },
    {
     "name": "stderr",
     "output_type": "stream",
     "text": [
      "2023-01-05 09:54:22,273 root            INFO     Leemos de la uart\n",
      "2023-01-05 09:54:23,381 root            INFO     \u0000\u0000\u0000\u0000\u0000\u0000\u0000\u0000\u0000\u0000\n"
     ]
    },
    {
     "name": "stdout",
     "output_type": "stream",
     "text": [
      "Valor de entrada no es un comando valido: command =[ \u0000\u0000\u0000\u0000\u0000\u0000\u0000\u0000\u0000\u0000 ]\n"
     ]
    },
    {
     "name": "stderr",
     "output_type": "stream",
     "text": [
      "2023-01-05 09:54:38,402 root            INFO     Leemos de la uart\n",
      "2023-01-05 09:54:39,510 root            INFO     \u0000\u0000\u0000\u0000\u0000\u0000\u0000\u0000\u0000\u0000\n"
     ]
    },
    {
     "name": "stdout",
     "output_type": "stream",
     "text": [
      "Valor de entrada no es un comando valido: command =[ \u0000\u0000\u0000\u0000\u0000\u0000\u0000\u0000\u0000\u0000 ]\n"
     ]
    },
    {
     "name": "stderr",
     "output_type": "stream",
     "text": [
      "2023-01-05 09:54:54,531 root            INFO     Leemos de la uart\n",
      "2023-01-05 09:54:55,640 root            INFO     \u0000\u0000\u0000\u0000\u0000\u0000\u0000\u0000\u0000\u0000\n"
     ]
    },
    {
     "name": "stdout",
     "output_type": "stream",
     "text": [
      "Valor de entrada no es un comando valido: command =[ \u0000\u0000\u0000\u0000\u0000\u0000\u0000\u0000\u0000\u0000 ]\n"
     ]
    },
    {
     "name": "stderr",
     "output_type": "stream",
     "text": [
      "2023-01-05 09:55:10,661 root            INFO     Leemos de la uart\n",
      "2023-01-05 09:55:11,769 root            INFO     \u0000\u0000\u0000\u0000\u0000\u0000\u0000\u0000\u0000\u0000\n"
     ]
    },
    {
     "name": "stdout",
     "output_type": "stream",
     "text": [
      "Valor de entrada no es un comando valido: command =[ \u0000\u0000\u0000\u0000\u0000\u0000\u0000\u0000\u0000\u0000 ]\n"
     ]
    },
    {
     "name": "stderr",
     "output_type": "stream",
     "text": [
      "2023-01-05 09:55:26,790 root            INFO     Leemos de la uart\n",
      "2023-01-05 09:55:27,899 root            INFO     \u0000\u0000\u0000\u0000\u0000\u0000\u0000\u0000\u0000\u0000\n"
     ]
    },
    {
     "name": "stdout",
     "output_type": "stream",
     "text": [
      "Valor de entrada no es un comando valido: command =[ \u0000\u0000\u0000\u0000\u0000\u0000\u0000\u0000\u0000\u0000 ]\n"
     ]
    },
    {
     "name": "stderr",
     "output_type": "stream",
     "text": [
      "2023-01-05 09:55:42,913 root            INFO     Leemos de la uart\n",
      "Exception in thread Thread-9 (init_uart):\n",
      "Traceback (most recent call last):\n",
      "  File \"/usr/lib/python3.10/threading.py\", line 1009, in _bootstrap_inner\n",
      "    self.run()\n",
      "  File \"/usr/lib/python3.10/threading.py\", line 946, in run\n",
      "    self._target(*self._args, **self._kwargs)\n",
      "  File \"/tmp/ipykernel_1041/2549632044.py\", line 88, in init_uart\n",
      "  File \"/tmp/ipykernel_1041/1567291616.py\", line 5, in recv_cmd\n",
      "  File \"<string>\", line 3, in wrapped\n",
      "  File \"/usr/local/share/pynq-venv/lib/python3.10/site-packages/pynq/lib/pynqmicroblaze/rpc.py\", line 790, in _call_func\n",
      "    return function(self._val, *args)\n",
      "  File \"<string>\", line 3, in call\n",
      "  File \"/usr/local/share/pynq-venv/lib/python3.10/site-packages/pynq/lib/pynqmicroblaze/rpc.py\", line 883, in call\n",
      "    return_value, done = self._handle_stream(*args)\n",
      "  File \"/usr/local/share/pynq-venv/lib/python3.10/site-packages/pynq/lib/pynqmicroblaze/rpc.py\", line 871, in _handle_stream\n",
      "    return self.function.receive_response(self.stream, *args), True\n",
      "  File \"/usr/local/share/pynq-venv/lib/python3.10/site-packages/pynq/lib/pynqmicroblaze/rpc.py\", line 551, in receive_response\n",
      "    [\n",
      "  File \"/usr/local/share/pynq-venv/lib/python3.10/site-packages/pynq/lib/pynqmicroblaze/rpc.py\", line 552, in <listcomp>\n",
      "    f.param_decode(a, stream)\n",
      "  File \"/usr/local/share/pynq-venv/lib/python3.10/site-packages/pynq/lib/pynqmicroblaze/rpc.py\", line 217, in param_decode\n",
      "    assert length == len(old_val)\n",
      "AssertionError\n"
     ]
    }
   ],
   "source": [
    "#event_uart  = multiprocessing.Event()\n",
    "#led_rgb (4,2)\n",
    " \n",
    "#r_uart = threading.Thread(target = init_uart,args=(event_uart,))\n",
    "#r_uart.start ()"
   ]
  },
  {
   "cell_type": "code",
   "execution_count": null,
   "id": "b0274261",
   "metadata": {},
   "outputs": [],
   "source": [
    "#if 'r_uart' in globals() or 'r_uart' in locals():\n",
    "    #event_uart.set()  \n",
    "    #r_uart.join ()"
   ]
  },
  {
   "cell_type": "code",
   "execution_count": null,
   "id": "774a28c8",
   "metadata": {},
   "outputs": [],
   "source": []
  },
  {
   "cell_type": "markdown",
   "id": "a56e3095",
   "metadata": {},
   "source": [
    "# 4. Hilo Simulador Eventos Distracccion"
   ]
  },
  {
   "cell_type": "code",
   "execution_count": null,
   "id": "9b11988f",
   "metadata": {},
   "outputs": [],
   "source": [
    "def take_event (event):\n",
    "    \"\"\"\n",
    "        EVENT_NFTR      = \"NFTR\" # Sin implementar\n",
    "        EVENT_DANGPOS   = \"DANGPOS\" # Sin implementar\n",
    "        #-- sensor Cam\n",
    "        EVENT_DTBLINK   = \"DTBLINK\"\n",
    "        EVENT_DTYAWN    = \"DTYAWN\"\n",
    "        EVENT_DTSMOKING = \"DTSMOKING\"\n",
    "        EVENT_DTDRINK   = \"DTDRINK\"\n",
    "        EVENT_DTEATING  = \"DTEATING\"\n",
    "        EVENT_DTMOBIL   = \"DTMOBIL\"\n",
    "        #-- Sensor Temp\n",
    "        EVENT_DTTEMP    = \"DTTEMP\"\n",
    "        #-- Sensor Intensidad de Luz\n",
    "        EVENT_DTLIGTH   = \"DTLIGTH\"\n",
    "\n",
    "        #--- Actuadores\n",
    "\n",
    "        EVENT_BUZZER    = \"BUZZER\"\n",
    "        EVENT_LED_STICK = \"LED_STICK\"\n",
    "        EVENT_SERVO     = \"SERVO\" \n",
    "        print(send_msg_json (EVENT_NFTR))\n",
    "        print(send_msg_json (EVENT_TEMP,23))\n",
    "        print(send_msg_json (EVENT_LIGHT_INT,23))\n",
    "        \n",
    "        \n",
    "        logging.debug('Fin main script')\n",
    "        logging.info('Fin main script')\n",
    "\n",
    "    \"\"\"\n",
    "    msg = \"\"\n",
    "    \n",
    "    if event  == 'DTBLINK':\n",
    "        logging.info ('DTBLINK')        \n",
    "        msg = send_msg_json (event=EVENT_DTBLINK)\n",
    "    elif event  == 'DTYAWN':\n",
    "        logging.info ('DTYAWN')\n",
    "        msg = send_msg_json (event=EVENT_DTYAWN)\n",
    "    elif event  == 'DTSMOKING':\n",
    "        logging.info ('DTSMOKING')\n",
    "        msg = send_msg_json (event=EVENT_DTSMOKING)\n",
    "    elif event  == 'DTDRINK':\n",
    "        logging.info('DTDRINK')\n",
    "        msg = send_msg_json (event=EVENT_DTDRINK)\n",
    "    elif event  == 'DTEATING':\n",
    "        logging.info('DTEATING')\n",
    "        msg = send_msg_json (event=EVENT_DTEATING)\n",
    "    elif event  == 'DTMOBIL':\n",
    "        logging.info('DTMOBIL')\n",
    "        msg = send_msg_json (event=EVENT_DTMOBIL)\n",
    "    elif event  == 'DTLIGTH':\n",
    "        logging.info('DTLIGTH')\n",
    "        temp_scr.acquire()\n",
    "        msg = send_msg_json (event=EVENT_DTLIGTH,vparam = temp_sensor ())\n",
    "        temp_scr.release()\n",
    "    elif event  == 'DTTEMP':\n",
    "        logging.info('DTTEMP')\n",
    "        intent_scr.acquire()\n",
    "        msg = send_msg_json (event=EVENT_DTTEMP,vparam = ligth_intensity ())\n",
    "        intent_scr.release()\n",
    "    else:\n",
    "        logging.info('error')\n",
    "    \n",
    "    logging.info(msg)\n",
    "    \n",
    "    return msg\n",
    "\n",
    "list_events = ['DTBLINK','DTYAWN','DTSMOKING','DTDRINK','DTEATING','DTMOBIL','DTLIGTH','DTTEMP']\n"
   ]
  },
  {
   "cell_type": "code",
   "execution_count": null,
   "id": "334546ff",
   "metadata": {},
   "outputs": [],
   "source": [
    "def init_msg (event_msg):\n",
    "    logging.info (\"def init_msg ():\")\n",
    " \n",
    "    color       = 0\n",
    "    app_connect = 0\n",
    "    count        = 0\n",
    "    t = 0\n",
    "    #app_connect_hivemqtt_run ()\n",
    "    sleep (2) \n",
    "    logging.info (list_events)\n",
    "    \n",
    "    mqtt_msg = False\n",
    "    \n",
    "    while get_color_led_rgb (4) !=  4:\n",
    "        #print(' while get_color_led_rgb (4) ')\n",
    "        if event_msg.is_set():\n",
    "            break\n",
    "        if  get_color_led_rgb (4) ==  2:\n",
    "            if mqtt_msg == False:\n",
    "                # Conecto al Cloud HiveMQTT y me suscribo\n",
    "                print(\"me suscribo\")\n",
    "                sub_pynq = threading.Thread(target = subscribing_pynq,args=(client_hivemqtt,topic_sub_pynq))\n",
    "                sub_pynq.start ()\n",
    "                print(\"me suscribo 2\")\n",
    "                mqtt_msg = True\n",
    "                \n",
    "            #print(mqtt_msg)\n",
    "            #print(client.connected_flag)\n",
    "            if  mqtt_msg == True and client_hivemqtt.connected_flag == True:\n",
    "                t=t+1\n",
    "                ## TENEMOS UN EVENTO NUEVO QUE ENVIAMOS AL SERVIDOR\n",
    "                #--------------------------------\n",
    "                event = random.choice(list_events) \n",
    "                \n",
    "                logging.info(event)\n",
    "                msg = take_event (event)\n",
    "                #logging.info (\"msg\")\n",
    "                # Aquí realmente se pondria funcion proceado video detección objetos.\n",
    "                # \n",
    "                #Creo un hilo para enviar el mensaje \n",
    "                pub_pynq = threading.Thread(target = main_pynq,args=(client_hivemqtt,topic_pub_pynq,msg))\n",
    "                pub_pynq.start ()\n",
    "            sleep (5)\n",
    "            #-----------------------------------\n",
    "        elif get_color_led_rgb (4) ==  4 and mqtt_msg == True:\n",
    "            disconnect_hivemqtt()\n",
    "            disconnect_client_cam(client_cam)\n",
    "            logging.info (\"Disconnected\")\n",
    "            break\n",
    "        else:\n",
    "            sleep (Delay0)\n",
    "        if count == 100:\n",
    "            count = 0\n",
    "            clear_output(wait=True)\n",
    "        else:\n",
    "            count = count +1"
   ]
  },
  {
   "cell_type": "markdown",
   "id": "65e41792",
   "metadata": {},
   "source": [
    "### 4.0 Test Hilo eventos"
   ]
  },
  {
   "cell_type": "code",
   "execution_count": 30,
   "id": "6da6d7a2",
   "metadata": {},
   "outputs": [],
   "source": [
    "#event_msg  = multiprocessing.Event()\n",
    "#led_rgb (4,2)\n",
    "#r_msg = threading.Thread(target = init_msg,args=(event_msg,))\n",
    "#r_msg.start ()"
   ]
  },
  {
   "cell_type": "code",
   "execution_count": null,
   "id": "801234d3",
   "metadata": {},
   "outputs": [],
   "source": [
    " \n",
    "#if 'r_msg' in globals() or 'r_uart' in locals():\n",
    "    #event_msg.set()  \n",
    "    #r_msg.join ()"
   ]
  },
  {
   "cell_type": "markdown",
   "id": "6e130042",
   "metadata": {},
   "source": [
    "# 5. Hilo Procesado Video Streaming. Detección Somnolencia"
   ]
  },
  {
   "cell_type": "code",
   "execution_count": null,
   "id": "94b8f5b0",
   "metadata": {},
   "outputs": [],
   "source": [
    "# Deteccion bostezos y somnolencia\n",
    " #--------------------------------------------------\n",
    "    \n",
    "def debug_ShowImg (img,hdmi_out):\n",
    "    #cv2.imshow('debug_ShowImg : ',img)\n",
    "    outframe = hdmi_out.newframe()\n",
    "    outframe[0:480,0:640,:] = img [0:480,0:640,:]\n",
    "    hdmi_out.writeframe(outframe)\n",
    "    \n",
    "    plt.imshow(img[:,:,[2,1,0]])\n",
    "    plt.show()\n",
    "\n",
    "\n",
    "    \n",
    "def eye_aspect_ratio(eye):\n",
    "    # Coordenadas verticales de la marca del ojo (X, Y)\n",
    "    A = dist.euclidean(eye[1], eye[5])# Calcular la distancia euclidiana entre dos conjuntos\n",
    "    B = dist.euclidean(eye[2], eye[4])\n",
    "    # Calcular la distancia euclidiana entre niveles\n",
    "    # Coordenadas horizontales de la marca del ojo (X, Y)\n",
    "    C = dist.euclidean(eye[0], eye[3])\n",
    "    # Cálculo de la relación de aspecto del ojo\n",
    "    ear = (A + B) / (2.0 * C)\n",
    "    # Devuelve la relación de aspecto de los ojos\n",
    "    return ear\n",
    " \n",
    "def mouth_aspect_ratio_(mouth):\n",
    "    \"\"\"\n",
    "     Con esta formula cuando hablas lo detecta como bostezo. Mejor identificar más puntos de la boca\n",
    "    \"\"\"\n",
    "    A = np.linalg.norm(mouth[2] - mouth[9])  # 51, 59\n",
    "    B = np.linalg.norm(mouth[4] - mouth[7])  # 53, 57\n",
    "    C = np.linalg.norm(mouth[0] - mouth[6])  # 49, 55\n",
    "    mar = (A + B) / (2.0 * C)\n",
    "    return mar\n",
    "\n",
    "def mouth_aspect_ratio(mouth):\n",
    "    # Compute the euclidean distances between the three sets\n",
    "    # of vertical mouth landmarks (x, y)-coordinates\n",
    "    A = np.linalg.norm(mouth[13] - mouth[19])\n",
    "    B = np.linalg.norm(mouth[14] - mouth[18])\n",
    "    C = np.linalg.norm(mouth[15] - mouth[17])\n",
    "\n",
    "    # Compute the euclidean distance between the horizontal\n",
    "    # mouth landmarks (x, y)-coordinates\n",
    "    D = np.linalg.norm(mouth[12] - mouth[16])\n",
    "\n",
    "    # Compute the mouth aspect ratio\n",
    "    mar = (A + B + C) / (2 * D)\n",
    "\n",
    "    # Return the mouth aspect ratio\n",
    "    return mar\n",
    "\n",
    "\n",
    "def run_drowsiness (event_cam):\n",
    "    \"\"\"\n",
    "    EVENT_DANGPOS    = \"DANGPOS\" \n",
    "    EVENT_DROWSINESS = 'DROWSINESS'\n",
    "    EVENT_DTBLINK    = \"DTBLINK\"\n",
    "    EVENT_DTYAWN     = \"DTYAWN\"\n",
    "    \"\"\"\n",
    "    global cap\n",
    "    global hdmi_out\n",
    "    # Definir dos constantes\n",
    "    # Relación de aspecto del ojo y Umbral de parpadeo\n",
    "    # Nota, el umbral de parpadeo se debe de configurar por persona. A la hora de registrarse debe medirse dicho umbral\n",
    "    # cada persona tiene un umbral diferente. Además, la luz ambiente afecta a la medición, con lo que mejor todo en grises\n",
    "    # Edtaria bien probar una mascara antes de realiar los calculos para evitar tener mediciones toxicas por ruido (FUTURO)\n",
    "    EYE_AR_THRESH        = 0.3#0.2\n",
    "    EYE_AR_CONSEC_FRAMES = 2 #3\n",
    "    # Relación de aspecto de bostezo y Umbral de bostezo\n",
    "    MAR_THRESH = 0.5 #0.5 \n",
    "    MOUTH_AR_CONSEC_FRAMES = 2#3\n",
    "    # Inicialice el contador de frames y el número total de parpadeos\n",
    "    COUNTER = 0\n",
    "    TOTAL = 0\n",
    "    # Inicializar contador de frames y bostezo total\n",
    "    mCOUNTER = 0\n",
    "    mTOTAL = 0\n",
    "    \n",
    "    #Conador de conductor sin visión o nodetectado y umbral asociado. \n",
    "    countDrive = 0\n",
    "    DRIVE_CONSEC_FRAMES = 40\n",
    "\n",
    "    # monitor configuration: 640*480 @ 60Hz\n",
    "    Mode = VideoMode(640,480,24)\n",
    "    # monitor (output) frame buffer size\n",
    "    hdmi_out = base.video.hdmi_out\n",
    "    hdmi_out.configure(Mode,PIXEL_BGR)\n",
    "    hdmi_out.start()\n",
    "    # Nos creamos un publicador de eventos de la cam\n",
    "    logging.info (\"Voy a conectar el cliente publicador de eventos de la cam\")\n",
    "    #connect_client_cam ()\n",
    "    \n",
    "    # Inicializamos el detector de rostro (HOG) de DLIB, luego cree la predicción de hitos faciales. utilizaremos la libreria \n",
    "    logging.info (\"[INFO] loading facial landmark predictor...\")\n",
    "    # Paso 1: Usaremos dlib.get_frontal_face_detector () para obtener el detector de posición de la cara\n",
    "    detector = dlib.get_frontal_face_detector()\n",
    "    # Paso 2: Usaremos dlib.shape_predictor para obtener el detector de posición de la función facial\n",
    "    predictor = dlib.shape_predictor('./model/shape_predictor_68_face_landmarks.dat') #Datos red darcknet preentrenada\n",
    "\n",
    "    # Paso 3: Obtenemos los valores estandares de índices de los signos faciales del ojo izquierdo y derecho por separado\n",
    "    (lStart, lEnd) = face_utils.FACIAL_LANDMARKS_IDXS[\"left_eye\"]\n",
    "    (rStart, rEnd) = face_utils.FACIAL_LANDMARKS_IDXS[\"right_eye\"]\n",
    "    (mStart, mEnd) = face_utils.FACIAL_LANDMARKS_IDXS[\"mouth\"]\n",
    "\n",
    "    # PAso 4: capturamos y obtenemos la cámara local cv2\n",
    "    if  (('cap' in globals ()) and (cap is not None) and (cap.isOpened() == True)):\n",
    "        logging.info (\"--> Desactivo la captura anterior\")\n",
    "        cap.release()\n",
    "    sistema = platform.system()\n",
    "     \n",
    "    os.environ[\"OPENCV_LOG_LEVEL\"]=\"SILENT\"   \n",
    "    logging.info (\"cv2.VideoCapture(0)\")\n",
    "    cap = cv2.VideoCapture(0)\n",
    "    cap.set(cv2.CAP_PROP_FOURCC, cv2.VideoWriter_fourcc('M', 'J', 'P', 'G'))\n",
    "    color = 0\n",
    "    # Leemos frames a fremes el video en real time\n",
    "    while color != 4:\n",
    "        color = get_color_led_rgb (4)\n",
    "        #logging.debug (\"* color:\",color)\n",
    "        start_time = time.time() #--123---\n",
    "        logging.debug (\"* start_time:\",start_time)\n",
    "        if event_cam.is_set():\n",
    "            break\n",
    "        # Paso 5: bucle, leer la imagen, ampliar la dimensión de la imagen y escala de grises\n",
    "        ret, frame = cap.read()\n",
    "        if frame is None:\n",
    "            continue\n",
    "        frame = imutils.resize(frame, width=720)\n",
    "        gray = cv2.cvtColor(frame, cv2.COLOR_BGR2GRAY)\n",
    "        # Paso 6: Usamos  el detector (gris, 0) para la detección de la posición de la cara\n",
    "        rects = detector(gray, 0)\n",
    "        if len(rects) == 0:\n",
    "            cv2.putText(frame, \" Conductor NO DETECTADO!! RIESGO DE ACCIDENTE!!!\", (20, 70),cv2.FONT_HERSHEY_SIMPLEX, 0.7, (84, 255, 255), 2)\n",
    "            #cv2.imshow(\"Frame\", frame)\n",
    "            debug_ShowImg (frame,hdmi_out)\n",
    "            countDrive += 1\n",
    "        else:\n",
    "            countDrive = 0\n",
    "         \n",
    "        if countDrive > DRIVE_CONSEC_FRAMES: # DRIVE_CONSEC_FRAMES = 40 --- OJO!! hemos modificado los umbrales para desarrollo\n",
    "            cv2.putText(frame, \" RIESGO DE ACCIDENTE!!!\", (20, 170),cv2.FONT_HERSHEY_SIMPLEX, 0.7, (146, 43, 33), 2)\n",
    "            #cv2.imshow(\"Frame\", frame)\n",
    "            debug_ShowImg (frame,hdmi_out)\n",
    "            #Enviamos mensaje alerta conductor sin visión o no detectado\n",
    "            #print(\"Voy a enviar mensaje\")\n",
    "            #send_cam_scr.acquire()\n",
    "            m = [send_msg_json (event=EVENT_DANGPOS,clientid=client_cam_id)]\n",
    "            send_msg = threading.Thread(target = send_cloud_cam_mseg,args=(m,))\n",
    "            send_msg.start ()# Enviamos alerta de somnolencia  \n",
    "            #send_cam_scr.release() \n",
    "            #send_cloud_cam_mseg (m)\n",
    "            #print(\"Voy a enviar mensaje\")\n",
    "            mmsg = f'event:SLEEP, total:{TOTAL},mtotal:{mTOTAL}'\n",
    "            logging.critical (mmsg)\n",
    "            \n",
    "        # Realmente el Rects tenemos más de una cara. En paso futuro hay que extraer aquella que corresponde al conductor (Si la hubiese) y compararla\n",
    "        # con la almacenada en el sistema (Cuando se realizo el resgitro de rasgos faciales).\n",
    "        # Paso 7: repita la información de la posición facial y use el predictor (gris, rect) para obtener la información de posición de la función facial\n",
    "        for rect in rects:\n",
    "            shape = predictor(gray, rect)\n",
    "\n",
    "            shape = face_utils.shape_to_np(shape)\n",
    "\n",
    "            # Paso 9: Extraemos las coordenadas de los ojos izquierdo y derecho\n",
    "            leftEye = shape[lStart:lEnd]\n",
    "            rightEye = shape[rStart:rEnd]\n",
    "            \n",
    "            # Paso 10: Extraemos las coordenadas de boca\n",
    "            mouth = shape[mStart:mEnd]\n",
    "\n",
    "\n",
    "            # Paso 11: el constructor calcula el valor EAR de los ojos izquierdo y derecho. Utiliamos  el valor promedio como EAR final\n",
    "            leftEAR = eye_aspect_ratio(leftEye)\n",
    "            rightEAR = eye_aspect_ratio(rightEye)\n",
    "            ear = (leftEAR + rightEAR) / 2.0\n",
    "            # Paso 12:REalizamos el mismo paso para el caso de la boca\n",
    "            mar = mouth_aspect_ratio(mouth)\n",
    "\n",
    "            # Paso 13: Usamos cv2.convexHull para obtener la posición del casco convexo, y con drawContours dibujamos la posición del contorno \n",
    "            leftEyeHull  = cv2.convexHull(leftEye)\n",
    "            rightEyeHull = cv2.convexHull(rightEye)\n",
    "            \n",
    "            cv2.drawContours(frame, [leftEyeHull], -1, (0, 255, 0), 1)\n",
    "            cv2.drawContours(frame, [rightEyeHull], -1, (0, 255, 0), 1)\n",
    "            \n",
    "            # Paso 14: Idem con la boca\n",
    "            mouthHull = cv2.convexHull(mouth)\n",
    "            cv2.drawContours(frame, [mouthHull], -1, (0, 255, 0), 1)\n",
    "\n",
    "            # Paso 15:  Recuadramos la cara que estamos evaluando (EN futuro, debemos de compararla con al del conductor registrado)\n",
    "            left = rect.left()\n",
    "            top = rect.top()\n",
    "            right = rect.right()\n",
    "            bottom = rect.bottom()\n",
    "            cv2.rectangle(frame, (left, top), (right, bottom), (0, 255, 0), 3)    \n",
    "\n",
    "            '''\n",
    "                A partir de aqui realizamos los cálculos de fatiga.\n",
    "            '''\n",
    "            # PAso 16: Si el valor de ear calculado es menor al umbral establecido para dicho conductor entonces incrementamos nñumero de parpadeos\n",
    "            if ear < EYE_AR_THRESH:# Relación de aspecto del ojo: el normal 0.2, para ojos pequeños 0.1\n",
    "                COUNTER += 1\n",
    "            else:\n",
    "                # Si es inferior al umbral por EYE_AR_CONSEC_FRAMES veces consecutivas, significa que se ha realizado una actividad de parpadeo\n",
    "                if COUNTER >= EYE_AR_CONSEC_FRAMES:# Umbral: 3, OJO!! hemos modificado los umbrales para desarrollo\n",
    "                    TOTAL += 1 # Nos indica las veces que ha parpadeado cada EYE_AR_CONSEC_FRAMES consecutivos\n",
    "                    #print(\"--------------------Voy a enviar mensaje\")\n",
    "                    #send_cam_scr.acquire()\n",
    "                    m = [send_msg_json (event=EVENT_DTBLINK,clientid=client_cam_id)] \n",
    "                    send_msg =  threading.Thread(target = send_cloud_cam_mseg,args=(m,))\n",
    "                    send_msg.start ()# Enviamos alerta de parpadeo  \n",
    "                    #send_cam_scr.release() \n",
    "                    #send_cloud_cam_mseg (m)\n",
    "                    #print(\"--------------------Voy a enviar mensaje\")\n",
    "                    mmsg = f'event:BLINK,total:{TOTAL},mtotal:{mTOTAL}'\n",
    "                    logging.critical (mmsg)\n",
    "                # Restablecer contador de marco de ojo\n",
    "                COUNTER = 0\n",
    "\n",
    "            # Paso 14: Sacamos por pantalla utilizando cv2.putText el número de parpadeos y el valor del ear obtenido en el frame\n",
    "            cv2.putText(frame, \"Faces: {}\".format(len(rects)), (10, 30),cv2.FONT_HERSHEY_SIMPLEX, 0.7, (0, 0, 255), 2)\n",
    "            cv2.putText(frame, \"Blinks: {}\".format(TOTAL), (150, 30),cv2.FONT_HERSHEY_SIMPLEX, 0.7, (0, 0, 255), 2)\n",
    "            cv2.putText(frame, \"COUNTER: {}\".format(COUNTER), (300, 30),cv2.FONT_HERSHEY_SIMPLEX, 0.7, (0, 0, 255), 2) \n",
    "            cv2.putText(frame, \"EAR: {:.2f}\".format(ear), (455, 30),cv2.FONT_HERSHEY_SIMPLEX, 0.7, (0, 0, 255), 2)\n",
    "            mmsg = f'event:INFO,Blinks:{TOTAL},COUNTER:{COUNTER},EAR:{ear}'\n",
    "            logging.critical (mmsg)\n",
    "            \n",
    "            '''\n",
    "Calculamos la puntuación de boca abierta, si es menor que el umbral, se incrementa en 1; si es menor que el umbral por MOUTH_AR_CONSEC_FRAMES veces consecutivas, significa que se produce un bostezo, y el mismo bostezo es de aproximadamente MOUTH_AR_CONSEC_FRAMES frames.\n",
    "            '''\n",
    "            # Paso 15: Del mismo modo comprobamos si se ha producio un bostezo    \n",
    "            if mar > MAR_THRESH:# Umbral de boca abierta 0.5\n",
    "                mCOUNTER += 1\n",
    "                cv2.putText(frame, \"Yawning!\", (10, 60),cv2.FONT_HERSHEY_SIMPLEX, 0.7, (0, 0, 255), 2)\n",
    "                mmsg = f'event:Yawning,total:{TOTAL},mtotal:{mTOTAL}'\n",
    "                logging.critical (mmsg)\n",
    "            else:\n",
    "                # Si es inferior al umbral por 3 veceprint(\"--------------------Voy a enviar mensaje\")s consecutivas, significa un bostezo\n",
    "                if mCOUNTER >= MOUTH_AR_CONSEC_FRAMES:# Umbral: 3 --- OJO!! hemos modificado los umbrales para desarrollo\n",
    "                    mTOTAL += 1\n",
    "                    mmsg = f'event:YAWN,total:{TOTAL},mtotal:{mTOTAL}'\n",
    "                    logging.critical (mmsg)\n",
    "                    #print(\"--------------------Voy a enviar mensaje\")\n",
    "                    #send_cam_scr.acquire()\n",
    "                    m = [send_msg_json (event=EVENT_DTYAWN,clientid=client_cam_id)] \n",
    "                    send_msg =  threading.Thread(target = send_cloud_cam_mseg,args=(m,))\n",
    "                    send_msg.start ()# Enviamos alerta de bostezo \n",
    "                    #send_cam_scr.release() \n",
    "                    #send_cloud_cam_mseg (m)\n",
    "                    #print(\"--------------------Voy a enviar mensaje\")\n",
    "                # Restablecer contador de marco de boca\n",
    "                mCOUNTER = 0\n",
    "            cv2.putText(frame, \"Yawning: {}\".format(mTOTAL), (150, 60),cv2.FONT_HERSHEY_SIMPLEX, 0.7, (0, 0, 255), 2)\n",
    "            cv2.putText(frame, \"mCOUNTER: {}\".format(mCOUNTER), (300, 60),cv2.FONT_HERSHEY_SIMPLEX, 0.7, (0, 0, 255), 2) \n",
    "            cv2.putText(frame, \"MAR: {:.2f}\".format(mar), (480, 60),cv2.FONT_HERSHEY_SIMPLEX, 0.7, (0, 0, 255), 2)\n",
    "\n",
    "            #  Paso 16: operación de dibujo, 68 identificación de puntos de características de dlib (Futuro poner mediapipe en la pynq)\n",
    "            for (x, y) in shape:\n",
    "                cv2.circle(frame, (x, y), 1, (0, 0, 255), -1)\n",
    "\n",
    "           #print('Relación de aspecto en tiempo real de la boca: {: .2f}'.format(mar)+\"\\ topen tu boca:\"+str([False,True][mar > MAR_THRESH]))\n",
    "           # print('Relación de aspecto en tiempo real de los ojos: {: .2f}'.format(ear)+\"\\ tBlink:\"+str([False,True][COUNTER>=1]))\n",
    "\n",
    "        # Determinar consejos de fatiga\n",
    "        # TOTAL >= 20 or mTOTAL>=10:\n",
    "        if TOTAL >= 50 or mTOTAL>=20:\n",
    "            cv2.putText(frame, \"SLEEP!!!. Riesgo Acidente!!!\", (100, 200),cv2.FONT_HERSHEY_SIMPLEX, 1, (0, 0, 255), 3)\n",
    "            #Enviamos mensaje alerta microsueño y lo guardamos en el log\n",
    "            #print(\"Voy a enviar mensaje\")\n",
    "            #send_cam_scr.acquire()\n",
    "            m = [send_msg_json (event=EVENT_DROWSINESS,clientid=client_cam_id)]\n",
    "            send_msg =  threading.Thread(target = send_cloud_cam_mseg,args=(m,))\n",
    "            send_msg.start ()# Enviamos alerta de somnolencia  \n",
    "            #send_cam_scr.release() \n",
    "            #send_cloud_cam_mseg (client_cam,m)\n",
    "            #print(\"Voy a enviar mensaje\")\n",
    "            mmsg = f'event:SLEEP, total:{TOTAL},mtotal:{mTOTAL}'\n",
    "            logging.critical (mmsg)\n",
    "           \n",
    "        # Presione q para salir\n",
    "        #cv2.putText(frame, \"Press 'q': Quit\", (20, 500),cv2.FONT_HERSHEY_SIMPLEX, 0.7, (84, 255, 159), 2)\n",
    "        # Muestra de ventana con opencv\n",
    "        #cv2.imshow(\"Frame\", frame)\n",
    "        debug_ShowImg (frame,hdmi_out)\n",
    "        elapsed_time = time.time() - start_time ### ---123--\n",
    "        mm = f\"Elapsed time: {elapsed_time} seconds.\"\n",
    "        logging.debug(mm)\n",
    "        # if the `q` key was pressed, break from the loop\n",
    "        #if cv2.waitKey(1) & 0xFF == ord('q'):\n",
    "            #break\n",
    "\n",
    "    # Release camera release camera\n",
    "    cap.release()\n",
    "    # do a bit of cleanup\n",
    "    cv2.destroyAllWindows()\n",
    "    hdmi_out.stop()\n",
    "    del hdmi_out\n"
   ]
  },
  {
   "cell_type": "markdown",
   "id": "c5005e8e",
   "metadata": {},
   "source": [
    "### 5.0 Test Proceso Somnolencia"
   ]
  },
  {
   "cell_type": "code",
   "execution_count": null,
   "id": "33c0627f",
   "metadata": {},
   "outputs": [],
   "source": [
    "m = [send_msg_json (event=EVENT_DROWSINESS,clientid=client_cam_id)]\n",
    "print(m)\n",
    "send_msg =  threading.Thread(target = send_cloud_cam_mseg,args=(client_cam,m))\n",
    "send_msg.start ()# Enviamos alerta de somnolencia  \n",
    " "
   ]
  },
  {
   "cell_type": "code",
   "execution_count": null,
   "id": "0f9920a5",
   "metadata": {},
   "outputs": [],
   "source": [
    "m = [send_msg_json (event=EVENT_DTYAWN,clientid=client_cam_id)] \n",
    "send_msg =  threading.Thread(target = send_cloud_cam_mseg,args=(client_cam,m))\n",
    "send_msg.start ()# Enviamos alerta de bostezo "
   ]
  },
  {
   "cell_type": "code",
   "execution_count": null,
   "id": "92519e8c",
   "metadata": {},
   "outputs": [],
   "source": [
    "m = [send_msg_json (event=EVENT_DTBLINK,clientid=client_cam_id)] \n",
    "send_msg =  threading.Thread(target = send_cloud_cam_mseg,args=(client_cam,m))\n",
    "send_msg.start ()# Enviamos alerta de parpadeo  "
   ]
  },
  {
   "cell_type": "code",
   "execution_count": null,
   "id": "06d1b1ea",
   "metadata": {},
   "outputs": [],
   "source": [
    "#m = [send_msg_json (event=EVENT_DANGPOS,clientid=client_cam_id)]\n",
    "#send_msg = threading.Thread(target = send_cloud_cam_mseg,args=(client_cam,m))\n",
    "#send_msg.start ()# Enviamos alerta de somnolencia  "
   ]
  },
  {
   "cell_type": "code",
   "execution_count": null,
   "id": "e4b02f1a",
   "metadata": {},
   "outputs": [],
   "source": []
  },
  {
   "cell_type": "code",
   "execution_count": null,
   "id": "ce9c1836",
   "metadata": {},
   "outputs": [],
   "source": [
    "#event_cam  = multiprocessing.Event()\n",
    "#led_rgb (4,2)\n",
    "#r_cam = threading.Thread(target = run_drowsiness,args=(event_cam,))\n",
    "#r_cam.start ()"
   ]
  },
  {
   "cell_type": "code",
   "execution_count": null,
   "id": "b30bf0a1",
   "metadata": {},
   "outputs": [],
   "source": [
    "#event_cam  = multiprocessing.Event() \n",
    "#disconnect_client_cam(client_cam)\n",
    " \n",
    "#event_cam.set()  \n",
    "#r_cam.join ()"
   ]
  },
  {
   "cell_type": "code",
   "execution_count": null,
   "id": "e66152d1",
   "metadata": {},
   "outputs": [],
   "source": [
    "#cap.release()\n",
    "# do a bit of cleanup\n",
    "#cv2.destroyAllWindows()\n",
    "#hdmi_out.stop()\n",
    "#del hdmi_out"
   ]
  },
  {
   "cell_type": "markdown",
   "id": "42981254",
   "metadata": {},
   "source": [
    "# 6.  Hilo de arranque de la APP en la PYNQ"
   ]
  },
  {
   "cell_type": "code",
   "execution_count": null,
   "id": "eb0c6d1b",
   "metadata": {},
   "outputs": [],
   "source": [
    "def init_app_con_somnolencia ():\n",
    "    led_rgb(4,0)\n",
    "    event_uart = multiprocessing.Event() \n",
    "    event_msg  = multiprocessing.Event()\n",
    "    event_cam  = multiprocessing.Event() \n",
    "    #Hilo dedicado eventos uart/bluetooth (conexión/desconexión)\n",
    "    r_uart = threading.Thread(target = init_uart,args=(event_uart,))\n",
    "    r_uart.start ()\n",
    "    \n",
    "    #Hilo dedicado a mensajes de eventos \n",
    "    r_msg = threading.Thread(target = init_msg,args=(event_msg,))\n",
    "    r_msg.start ()  \n",
    "    color = 0\n",
    "    cam_ok = False\n",
    "    while get_buttons()==0:\n",
    "        color = get_color_led_rgb (4)\n",
    "        logging.info(color)\n",
    "        if color == 2 and cam_ok == False:\n",
    "            logging.info(\"Arrancamos la cam de la pynq\")\n",
    "            cam_ok = True\n",
    "            r_cam = threading.Thread(target = run_drowsiness,args=(event_cam,))\n",
    "            r_cam.start ()\n",
    "        if color == 4:\n",
    "            cam_ok = False\n",
    "            break\n",
    "        sleep (1)  \n",
    "        \n",
    "    \n",
    "    print('press buttons!!!!')\n",
    "    if 'r_cam' in globals() or 'r_cam' in locals():\n",
    "        event_cam.set()  \n",
    "        r_cam.join ()\n",
    "    if 'r_msg' in globals() or 'r_msg' in locals():\n",
    "        event_msg.set()  \n",
    "        r_msg.join ()\n",
    "    if 'r_uart' in globals() or 'r_uart' in locals():\n",
    "        event_uart.set() \n",
    "        r_uart.join ()\n",
    "    disconnect_hivemqtt()\n",
    "    disconnect_client_cam(client_cam)\n",
    "    cap.release()\n",
    "    # do a bit of cleanup\n",
    "    cv2.destroyAllWindows()\n",
    "    hdmi_out.stop()\n",
    "    del hdmi_out\n",
    "\n",
    "def close_app ():\n",
    "    logging.debug(\"def close_app ():\")\n",
    "    disconnect_hivemqtt()\n",
    "    disconnect_client_cam()\n",
    "    if get_color_led_rgb (4) == 2:\n",
    "        led_rgb(4,4)\n",
    "    \n",
    "def init_app ():\n",
    "    \n",
    "    event_uart = multiprocessing.Event() \n",
    "    event_msg  = multiprocessing.Event()\n",
    "    led_rgb(4,0)\n",
    "    #Hilo dedicado eventos uart/bluetooth (conexión/desconexión)\n",
    "    r_uart = threading.Thread(target = init_uart,args=(event_uart,))\n",
    "    r_uart.start ()\n",
    "    \n",
    "    #Hilo dedicado a mensajes de eventos \n",
    "    r_msg = threading.Thread(target = init_msg,args=(event_msg,))\n",
    "    r_msg.start ()  \n",
    "    color = 0\n",
    "\n",
    "    while get_buttons()==0:\n",
    "        color = get_color_led_rgb (4)\n",
    "        logging.info(color)\n",
    "\n",
    "        if color == 4:\n",
    "            break\n",
    "        sleep (4)  \n",
    "        \n",
    "    \n",
    "    print('press buttons!!!!')\n",
    "    if 'r_msg' in globals() or 'r_msg' in locals():\n",
    "        event_msg.set()  \n",
    "        r_msg.join ()\n",
    "    if 'r_uart' in globals() or 'r_uart' in locals():\n",
    "        event_uart.set() \n",
    "        r_uart.join ()\n",
    "    disconnect_hivemqtt()\n",
    "    disconnect_client_cam(client_cam)\n",
    "    cap.release()\n",
    "    # do a bit of cleanup\n",
    "    cv2.destroyAllWindows()\n",
    "    hdmi_out.stop()\n",
    "    del hdmi_out"
   ]
  },
  {
   "cell_type": "markdown",
   "id": "821ab989",
   "metadata": {},
   "source": [
    "# 7. Arranque de la APP"
   ]
  },
  {
   "cell_type": "markdown",
   "id": "33b07d1b",
   "metadata": {},
   "source": [
    "## 7.1 Arranque sin control somolencia en pynq"
   ]
  },
  {
   "cell_type": "code",
   "execution_count": null,
   "id": "72e0cabb",
   "metadata": {},
   "outputs": [],
   "source": [
    "init_app ()  # Con detección somnolencia en PC"
   ]
  },
  {
   "cell_type": "markdown",
   "id": "418be4d7",
   "metadata": {},
   "source": [
    "## 7.2 Arranque con control de somnolencia en pynq"
   ]
  },
  {
   "cell_type": "code",
   "execution_count": null,
   "id": "27bb4603",
   "metadata": {},
   "outputs": [],
   "source": [
    "init_app_con_somnolencia ()  # Con detección somnolencia con la pynq"
   ]
  },
  {
   "cell_type": "code",
   "execution_count": null,
   "id": "5f388fec",
   "metadata": {},
   "outputs": [],
   "source": []
  },
  {
   "cell_type": "code",
   "execution_count": null,
   "id": "a6bca96a",
   "metadata": {},
   "outputs": [],
   "source": []
  }
 ],
 "metadata": {
  "kernelspec": {
   "display_name": "Python 3 (ipykernel)",
   "language": "python",
   "name": "python3"
  },
  "language_info": {
   "codemirror_mode": {
    "name": "ipython",
    "version": 3
   },
   "file_extension": ".py",
   "mimetype": "text/x-python",
   "name": "python",
   "nbconvert_exporter": "python",
   "pygments_lexer": "ipython3",
   "version": "3.9.13"
  }
 },
 "nbformat": 4,
 "nbformat_minor": 5
}
